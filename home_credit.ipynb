{
  "nbformat": 4,
  "nbformat_minor": 0,
  "metadata": {
    "colab": {
      "name": "home_credit.ipynb",
      "provenance": [],
      "authorship_tag": "ABX9TyNxOlS8jlhzMoICUVJ1SJ4t",
      "include_colab_link": true
    },
    "kernelspec": {
      "name": "python3",
      "display_name": "Python 3"
    },
    "language_info": {
      "name": "python"
    }
  },
  "cells": [
    {
      "cell_type": "markdown",
      "metadata": {
        "id": "view-in-github",
        "colab_type": "text"
      },
      "source": [
        "<a href=\"https://colab.research.google.com/github/LeonMilosevic/home_credit/blob/main/home_credit.ipynb\" target=\"_parent\"><img src=\"https://colab.research.google.com/assets/colab-badge.svg\" alt=\"Open In Colab\"/></a>"
      ]
    },
    {
      "cell_type": "markdown",
      "metadata": {
        "id": "3_wKe2AQlYal"
      },
      "source": [
        "## Home Credit Default Risk Competition"
      ]
    },
    {
      "cell_type": "markdown",
      "metadata": {
        "id": "NN_eU5wQ4rxH"
      },
      "source": [
        "### Intro"
      ]
    },
    {
      "cell_type": "markdown",
      "metadata": {
        "id": "Z5Y93r9klbO1"
      },
      "source": [
        "Introduction: \\\n",
        "\n",
        "https://www.kaggle.com/c/home-credit-default-risk/overview\n",
        "\n",
        "In Home Credit Default Risk Competition we need to make a model, that will give us a probability that the given client repays the loan. This should help the business decide if they should or should not proivde financial loan to a given customer.\n",
        "\n",
        "Problem:\n",
        "\n",
        "It is a binary classification problem:\n",
        "- Will repay the loan = 0\n",
        "- Will not repay the loan = 1\n",
        "\n",
        "Evaluation Criteria:\n",
        "\n",
        "Based on the requirements of the competition, we will need to evaluate our models on ***roc_auc_score*** metric.\n",
        "\n",
        "Data:\n",
        "\n",
        "- application_{train|test}.csv (main file)\n",
        "- bureau.csv\n",
        "- bureau_balance.csv\n",
        "- POS_CASH_balance.csv\n",
        "- credit_card_balance.csv\n",
        "- previous_application.csv\n",
        "- installments_payments.csv\n",
        "- HomeCredit_columns_description.csv\n",
        "\n",
        "Approach:\n",
        "- Explore the data of application_train\n",
        "- Create baseline model\n",
        "- Improve the model with feature engineering\n",
        "- Explore other files\n",
        "- Add usefull features from other files\n",
        "- Test models on new features\n",
        "- Feature Engineering\n",
        "- Hyperparametar Tuning\n",
        "- Feature Impotrance"
      ]
    },
    {
      "cell_type": "markdown",
      "metadata": {
        "id": "Wa5WVR463a4V"
      },
      "source": [
        "Imports"
      ]
    },
    {
      "cell_type": "code",
      "metadata": {
        "id": "KwGZEVbEW7Tp"
      },
      "source": [
        "!pip install catboost"
      ],
      "execution_count": null,
      "outputs": []
    },
    {
      "cell_type": "code",
      "metadata": {
        "id": "FwkMeh503VSl"
      },
      "source": [
        "import pandas as pd\n",
        "import numpy as np\n",
        "import seaborn as sns\n",
        "import matplotlib.pyplot as plt\n",
        "\n",
        "import missingno as msno\n",
        "from scipy import stats\n",
        "\n",
        "from sklearn.ensemble import GradientBoostingClassifier\n",
        "from xgboost import XGBClassifier\n",
        "from catboost import CatBoostClassifier\n",
        "from sklearn.neighbors import KNeighborsClassifier\n",
        "\n",
        "from sklearn.metrics import roc_auc_score\n",
        "\n",
        "from sklearn.preprocessing import PolynomialFeatures\n",
        "\n",
        "from sklearn.model_selection import train_test_split"
      ],
      "execution_count": 20,
      "outputs": []
    },
    {
      "cell_type": "markdown",
      "metadata": {
        "id": "cJ8Ijhrp3crm"
      },
      "source": [
        "Files"
      ]
    },
    {
      "cell_type": "code",
      "metadata": {
        "id": "_EaLGM4BlVZn"
      },
      "source": [
        "app_train = pd.read_csv('application_train.csv')\n",
        "app_test = pd.read_csv('application_test.csv')\n",
        "categorical_vars_data = pd.read_csv('categorical_vars.csv')\n",
        "model_experiments = pd.read_csv('model_experiments.csv')"
      ],
      "execution_count": 76,
      "outputs": []
    },
    {
      "cell_type": "code",
      "metadata": {
        "colab": {
          "base_uri": "https://localhost:8080/"
        },
        "id": "VwUNXoUvmBl_",
        "outputId": "2c315e38-5206-4d55-99d4-52d00f9e9fb8"
      },
      "source": [
        "app_train.shape"
      ],
      "execution_count": 5,
      "outputs": [
        {
          "output_type": "execute_result",
          "data": {
            "text/plain": [
              "(307511, 122)"
            ]
          },
          "metadata": {
            "tags": []
          },
          "execution_count": 5
        }
      ]
    },
    {
      "cell_type": "code",
      "metadata": {
        "colab": {
          "base_uri": "https://localhost:8080/"
        },
        "id": "dGvv65tJnRuh",
        "outputId": "2ac8c859-260c-44a3-a5ba-3bb1fd4d784f"
      },
      "source": [
        "app_test.shape"
      ],
      "execution_count": 6,
      "outputs": [
        {
          "output_type": "execute_result",
          "data": {
            "text/plain": [
              "(48744, 121)"
            ]
          },
          "metadata": {
            "tags": []
          },
          "execution_count": 6
        }
      ]
    },
    {
      "cell_type": "code",
      "metadata": {
        "id": "ZNufPV6jpLIe",
        "colab": {
          "base_uri": "https://localhost:8080/",
          "height": 325
        },
        "outputId": "51bbd559-e43c-4f59-a7fb-a5591d56bb44"
      },
      "source": [
        "app_train.head(5)"
      ],
      "execution_count": null,
      "outputs": [
        {
          "output_type": "execute_result",
          "data": {
            "text/html": [
              "<div>\n",
              "<style scoped>\n",
              "    .dataframe tbody tr th:only-of-type {\n",
              "        vertical-align: middle;\n",
              "    }\n",
              "\n",
              "    .dataframe tbody tr th {\n",
              "        vertical-align: top;\n",
              "    }\n",
              "\n",
              "    .dataframe thead th {\n",
              "        text-align: right;\n",
              "    }\n",
              "</style>\n",
              "<table border=\"1\" class=\"dataframe\">\n",
              "  <thead>\n",
              "    <tr style=\"text-align: right;\">\n",
              "      <th></th>\n",
              "      <th>SK_ID_CURR</th>\n",
              "      <th>TARGET</th>\n",
              "      <th>NAME_CONTRACT_TYPE</th>\n",
              "      <th>CODE_GENDER</th>\n",
              "      <th>FLAG_OWN_CAR</th>\n",
              "      <th>FLAG_OWN_REALTY</th>\n",
              "      <th>CNT_CHILDREN</th>\n",
              "      <th>AMT_INCOME_TOTAL</th>\n",
              "      <th>AMT_CREDIT</th>\n",
              "      <th>AMT_ANNUITY</th>\n",
              "      <th>AMT_GOODS_PRICE</th>\n",
              "      <th>NAME_TYPE_SUITE</th>\n",
              "      <th>NAME_INCOME_TYPE</th>\n",
              "      <th>NAME_EDUCATION_TYPE</th>\n",
              "      <th>NAME_FAMILY_STATUS</th>\n",
              "      <th>NAME_HOUSING_TYPE</th>\n",
              "      <th>REGION_POPULATION_RELATIVE</th>\n",
              "      <th>DAYS_BIRTH</th>\n",
              "      <th>DAYS_EMPLOYED</th>\n",
              "      <th>DAYS_REGISTRATION</th>\n",
              "      <th>DAYS_ID_PUBLISH</th>\n",
              "      <th>OWN_CAR_AGE</th>\n",
              "      <th>FLAG_MOBIL</th>\n",
              "      <th>FLAG_EMP_PHONE</th>\n",
              "      <th>FLAG_WORK_PHONE</th>\n",
              "      <th>FLAG_CONT_MOBILE</th>\n",
              "      <th>FLAG_PHONE</th>\n",
              "      <th>FLAG_EMAIL</th>\n",
              "      <th>OCCUPATION_TYPE</th>\n",
              "      <th>CNT_FAM_MEMBERS</th>\n",
              "      <th>REGION_RATING_CLIENT</th>\n",
              "      <th>REGION_RATING_CLIENT_W_CITY</th>\n",
              "      <th>WEEKDAY_APPR_PROCESS_START</th>\n",
              "      <th>HOUR_APPR_PROCESS_START</th>\n",
              "      <th>REG_REGION_NOT_LIVE_REGION</th>\n",
              "      <th>REG_REGION_NOT_WORK_REGION</th>\n",
              "      <th>LIVE_REGION_NOT_WORK_REGION</th>\n",
              "      <th>REG_CITY_NOT_LIVE_CITY</th>\n",
              "      <th>REG_CITY_NOT_WORK_CITY</th>\n",
              "      <th>LIVE_CITY_NOT_WORK_CITY</th>\n",
              "      <th>...</th>\n",
              "      <th>LIVINGAPARTMENTS_MEDI</th>\n",
              "      <th>LIVINGAREA_MEDI</th>\n",
              "      <th>NONLIVINGAPARTMENTS_MEDI</th>\n",
              "      <th>NONLIVINGAREA_MEDI</th>\n",
              "      <th>FONDKAPREMONT_MODE</th>\n",
              "      <th>HOUSETYPE_MODE</th>\n",
              "      <th>TOTALAREA_MODE</th>\n",
              "      <th>WALLSMATERIAL_MODE</th>\n",
              "      <th>EMERGENCYSTATE_MODE</th>\n",
              "      <th>OBS_30_CNT_SOCIAL_CIRCLE</th>\n",
              "      <th>DEF_30_CNT_SOCIAL_CIRCLE</th>\n",
              "      <th>OBS_60_CNT_SOCIAL_CIRCLE</th>\n",
              "      <th>DEF_60_CNT_SOCIAL_CIRCLE</th>\n",
              "      <th>DAYS_LAST_PHONE_CHANGE</th>\n",
              "      <th>FLAG_DOCUMENT_2</th>\n",
              "      <th>FLAG_DOCUMENT_3</th>\n",
              "      <th>FLAG_DOCUMENT_4</th>\n",
              "      <th>FLAG_DOCUMENT_5</th>\n",
              "      <th>FLAG_DOCUMENT_6</th>\n",
              "      <th>FLAG_DOCUMENT_7</th>\n",
              "      <th>FLAG_DOCUMENT_8</th>\n",
              "      <th>FLAG_DOCUMENT_9</th>\n",
              "      <th>FLAG_DOCUMENT_10</th>\n",
              "      <th>FLAG_DOCUMENT_11</th>\n",
              "      <th>FLAG_DOCUMENT_12</th>\n",
              "      <th>FLAG_DOCUMENT_13</th>\n",
              "      <th>FLAG_DOCUMENT_14</th>\n",
              "      <th>FLAG_DOCUMENT_15</th>\n",
              "      <th>FLAG_DOCUMENT_16</th>\n",
              "      <th>FLAG_DOCUMENT_17</th>\n",
              "      <th>FLAG_DOCUMENT_18</th>\n",
              "      <th>FLAG_DOCUMENT_19</th>\n",
              "      <th>FLAG_DOCUMENT_20</th>\n",
              "      <th>FLAG_DOCUMENT_21</th>\n",
              "      <th>AMT_REQ_CREDIT_BUREAU_HOUR</th>\n",
              "      <th>AMT_REQ_CREDIT_BUREAU_DAY</th>\n",
              "      <th>AMT_REQ_CREDIT_BUREAU_WEEK</th>\n",
              "      <th>AMT_REQ_CREDIT_BUREAU_MON</th>\n",
              "      <th>AMT_REQ_CREDIT_BUREAU_QRT</th>\n",
              "      <th>AMT_REQ_CREDIT_BUREAU_YEAR</th>\n",
              "    </tr>\n",
              "  </thead>\n",
              "  <tbody>\n",
              "    <tr>\n",
              "      <th>0</th>\n",
              "      <td>100002</td>\n",
              "      <td>1</td>\n",
              "      <td>Cash loans</td>\n",
              "      <td>M</td>\n",
              "      <td>N</td>\n",
              "      <td>Y</td>\n",
              "      <td>0</td>\n",
              "      <td>202500.0</td>\n",
              "      <td>406597.5</td>\n",
              "      <td>24700.5</td>\n",
              "      <td>351000.0</td>\n",
              "      <td>Unaccompanied</td>\n",
              "      <td>Working</td>\n",
              "      <td>Secondary / secondary special</td>\n",
              "      <td>Single / not married</td>\n",
              "      <td>House / apartment</td>\n",
              "      <td>0.018801</td>\n",
              "      <td>-9461</td>\n",
              "      <td>-637</td>\n",
              "      <td>-3648.0</td>\n",
              "      <td>-2120</td>\n",
              "      <td>NaN</td>\n",
              "      <td>1</td>\n",
              "      <td>1</td>\n",
              "      <td>0</td>\n",
              "      <td>1</td>\n",
              "      <td>1</td>\n",
              "      <td>0</td>\n",
              "      <td>Laborers</td>\n",
              "      <td>1.0</td>\n",
              "      <td>2</td>\n",
              "      <td>2</td>\n",
              "      <td>WEDNESDAY</td>\n",
              "      <td>10</td>\n",
              "      <td>0</td>\n",
              "      <td>0</td>\n",
              "      <td>0</td>\n",
              "      <td>0</td>\n",
              "      <td>0</td>\n",
              "      <td>0</td>\n",
              "      <td>...</td>\n",
              "      <td>0.0205</td>\n",
              "      <td>0.0193</td>\n",
              "      <td>0.0000</td>\n",
              "      <td>0.00</td>\n",
              "      <td>reg oper account</td>\n",
              "      <td>block of flats</td>\n",
              "      <td>0.0149</td>\n",
              "      <td>Stone, brick</td>\n",
              "      <td>No</td>\n",
              "      <td>2.0</td>\n",
              "      <td>2.0</td>\n",
              "      <td>2.0</td>\n",
              "      <td>2.0</td>\n",
              "      <td>-1134.0</td>\n",
              "      <td>0</td>\n",
              "      <td>1</td>\n",
              "      <td>0</td>\n",
              "      <td>0</td>\n",
              "      <td>0</td>\n",
              "      <td>0</td>\n",
              "      <td>0</td>\n",
              "      <td>0</td>\n",
              "      <td>0</td>\n",
              "      <td>0</td>\n",
              "      <td>0</td>\n",
              "      <td>0</td>\n",
              "      <td>0</td>\n",
              "      <td>0</td>\n",
              "      <td>0</td>\n",
              "      <td>0</td>\n",
              "      <td>0</td>\n",
              "      <td>0</td>\n",
              "      <td>0</td>\n",
              "      <td>0</td>\n",
              "      <td>0.0</td>\n",
              "      <td>0.0</td>\n",
              "      <td>0.0</td>\n",
              "      <td>0.0</td>\n",
              "      <td>0.0</td>\n",
              "      <td>1.0</td>\n",
              "    </tr>\n",
              "    <tr>\n",
              "      <th>1</th>\n",
              "      <td>100003</td>\n",
              "      <td>0</td>\n",
              "      <td>Cash loans</td>\n",
              "      <td>F</td>\n",
              "      <td>N</td>\n",
              "      <td>N</td>\n",
              "      <td>0</td>\n",
              "      <td>270000.0</td>\n",
              "      <td>1293502.5</td>\n",
              "      <td>35698.5</td>\n",
              "      <td>1129500.0</td>\n",
              "      <td>Family</td>\n",
              "      <td>State servant</td>\n",
              "      <td>Higher education</td>\n",
              "      <td>Married</td>\n",
              "      <td>House / apartment</td>\n",
              "      <td>0.003541</td>\n",
              "      <td>-16765</td>\n",
              "      <td>-1188</td>\n",
              "      <td>-1186.0</td>\n",
              "      <td>-291</td>\n",
              "      <td>NaN</td>\n",
              "      <td>1</td>\n",
              "      <td>1</td>\n",
              "      <td>0</td>\n",
              "      <td>1</td>\n",
              "      <td>1</td>\n",
              "      <td>0</td>\n",
              "      <td>Core staff</td>\n",
              "      <td>2.0</td>\n",
              "      <td>1</td>\n",
              "      <td>1</td>\n",
              "      <td>MONDAY</td>\n",
              "      <td>11</td>\n",
              "      <td>0</td>\n",
              "      <td>0</td>\n",
              "      <td>0</td>\n",
              "      <td>0</td>\n",
              "      <td>0</td>\n",
              "      <td>0</td>\n",
              "      <td>...</td>\n",
              "      <td>0.0787</td>\n",
              "      <td>0.0558</td>\n",
              "      <td>0.0039</td>\n",
              "      <td>0.01</td>\n",
              "      <td>reg oper account</td>\n",
              "      <td>block of flats</td>\n",
              "      <td>0.0714</td>\n",
              "      <td>Block</td>\n",
              "      <td>No</td>\n",
              "      <td>1.0</td>\n",
              "      <td>0.0</td>\n",
              "      <td>1.0</td>\n",
              "      <td>0.0</td>\n",
              "      <td>-828.0</td>\n",
              "      <td>0</td>\n",
              "      <td>1</td>\n",
              "      <td>0</td>\n",
              "      <td>0</td>\n",
              "      <td>0</td>\n",
              "      <td>0</td>\n",
              "      <td>0</td>\n",
              "      <td>0</td>\n",
              "      <td>0</td>\n",
              "      <td>0</td>\n",
              "      <td>0</td>\n",
              "      <td>0</td>\n",
              "      <td>0</td>\n",
              "      <td>0</td>\n",
              "      <td>0</td>\n",
              "      <td>0</td>\n",
              "      <td>0</td>\n",
              "      <td>0</td>\n",
              "      <td>0</td>\n",
              "      <td>0</td>\n",
              "      <td>0.0</td>\n",
              "      <td>0.0</td>\n",
              "      <td>0.0</td>\n",
              "      <td>0.0</td>\n",
              "      <td>0.0</td>\n",
              "      <td>0.0</td>\n",
              "    </tr>\n",
              "    <tr>\n",
              "      <th>2</th>\n",
              "      <td>100004</td>\n",
              "      <td>0</td>\n",
              "      <td>Revolving loans</td>\n",
              "      <td>M</td>\n",
              "      <td>Y</td>\n",
              "      <td>Y</td>\n",
              "      <td>0</td>\n",
              "      <td>67500.0</td>\n",
              "      <td>135000.0</td>\n",
              "      <td>6750.0</td>\n",
              "      <td>135000.0</td>\n",
              "      <td>Unaccompanied</td>\n",
              "      <td>Working</td>\n",
              "      <td>Secondary / secondary special</td>\n",
              "      <td>Single / not married</td>\n",
              "      <td>House / apartment</td>\n",
              "      <td>0.010032</td>\n",
              "      <td>-19046</td>\n",
              "      <td>-225</td>\n",
              "      <td>-4260.0</td>\n",
              "      <td>-2531</td>\n",
              "      <td>26.0</td>\n",
              "      <td>1</td>\n",
              "      <td>1</td>\n",
              "      <td>1</td>\n",
              "      <td>1</td>\n",
              "      <td>1</td>\n",
              "      <td>0</td>\n",
              "      <td>Laborers</td>\n",
              "      <td>1.0</td>\n",
              "      <td>2</td>\n",
              "      <td>2</td>\n",
              "      <td>MONDAY</td>\n",
              "      <td>9</td>\n",
              "      <td>0</td>\n",
              "      <td>0</td>\n",
              "      <td>0</td>\n",
              "      <td>0</td>\n",
              "      <td>0</td>\n",
              "      <td>0</td>\n",
              "      <td>...</td>\n",
              "      <td>NaN</td>\n",
              "      <td>NaN</td>\n",
              "      <td>NaN</td>\n",
              "      <td>NaN</td>\n",
              "      <td>NaN</td>\n",
              "      <td>NaN</td>\n",
              "      <td>NaN</td>\n",
              "      <td>NaN</td>\n",
              "      <td>NaN</td>\n",
              "      <td>0.0</td>\n",
              "      <td>0.0</td>\n",
              "      <td>0.0</td>\n",
              "      <td>0.0</td>\n",
              "      <td>-815.0</td>\n",
              "      <td>0</td>\n",
              "      <td>0</td>\n",
              "      <td>0</td>\n",
              "      <td>0</td>\n",
              "      <td>0</td>\n",
              "      <td>0</td>\n",
              "      <td>0</td>\n",
              "      <td>0</td>\n",
              "      <td>0</td>\n",
              "      <td>0</td>\n",
              "      <td>0</td>\n",
              "      <td>0</td>\n",
              "      <td>0</td>\n",
              "      <td>0</td>\n",
              "      <td>0</td>\n",
              "      <td>0</td>\n",
              "      <td>0</td>\n",
              "      <td>0</td>\n",
              "      <td>0</td>\n",
              "      <td>0</td>\n",
              "      <td>0.0</td>\n",
              "      <td>0.0</td>\n",
              "      <td>0.0</td>\n",
              "      <td>0.0</td>\n",
              "      <td>0.0</td>\n",
              "      <td>0.0</td>\n",
              "    </tr>\n",
              "    <tr>\n",
              "      <th>3</th>\n",
              "      <td>100006</td>\n",
              "      <td>0</td>\n",
              "      <td>Cash loans</td>\n",
              "      <td>F</td>\n",
              "      <td>N</td>\n",
              "      <td>Y</td>\n",
              "      <td>0</td>\n",
              "      <td>135000.0</td>\n",
              "      <td>312682.5</td>\n",
              "      <td>29686.5</td>\n",
              "      <td>297000.0</td>\n",
              "      <td>Unaccompanied</td>\n",
              "      <td>Working</td>\n",
              "      <td>Secondary / secondary special</td>\n",
              "      <td>Civil marriage</td>\n",
              "      <td>House / apartment</td>\n",
              "      <td>0.008019</td>\n",
              "      <td>-19005</td>\n",
              "      <td>-3039</td>\n",
              "      <td>-9833.0</td>\n",
              "      <td>-2437</td>\n",
              "      <td>NaN</td>\n",
              "      <td>1</td>\n",
              "      <td>1</td>\n",
              "      <td>0</td>\n",
              "      <td>1</td>\n",
              "      <td>0</td>\n",
              "      <td>0</td>\n",
              "      <td>Laborers</td>\n",
              "      <td>2.0</td>\n",
              "      <td>2</td>\n",
              "      <td>2</td>\n",
              "      <td>WEDNESDAY</td>\n",
              "      <td>17</td>\n",
              "      <td>0</td>\n",
              "      <td>0</td>\n",
              "      <td>0</td>\n",
              "      <td>0</td>\n",
              "      <td>0</td>\n",
              "      <td>0</td>\n",
              "      <td>...</td>\n",
              "      <td>NaN</td>\n",
              "      <td>NaN</td>\n",
              "      <td>NaN</td>\n",
              "      <td>NaN</td>\n",
              "      <td>NaN</td>\n",
              "      <td>NaN</td>\n",
              "      <td>NaN</td>\n",
              "      <td>NaN</td>\n",
              "      <td>NaN</td>\n",
              "      <td>2.0</td>\n",
              "      <td>0.0</td>\n",
              "      <td>2.0</td>\n",
              "      <td>0.0</td>\n",
              "      <td>-617.0</td>\n",
              "      <td>0</td>\n",
              "      <td>1</td>\n",
              "      <td>0</td>\n",
              "      <td>0</td>\n",
              "      <td>0</td>\n",
              "      <td>0</td>\n",
              "      <td>0</td>\n",
              "      <td>0</td>\n",
              "      <td>0</td>\n",
              "      <td>0</td>\n",
              "      <td>0</td>\n",
              "      <td>0</td>\n",
              "      <td>0</td>\n",
              "      <td>0</td>\n",
              "      <td>0</td>\n",
              "      <td>0</td>\n",
              "      <td>0</td>\n",
              "      <td>0</td>\n",
              "      <td>0</td>\n",
              "      <td>0</td>\n",
              "      <td>NaN</td>\n",
              "      <td>NaN</td>\n",
              "      <td>NaN</td>\n",
              "      <td>NaN</td>\n",
              "      <td>NaN</td>\n",
              "      <td>NaN</td>\n",
              "    </tr>\n",
              "    <tr>\n",
              "      <th>4</th>\n",
              "      <td>100007</td>\n",
              "      <td>0</td>\n",
              "      <td>Cash loans</td>\n",
              "      <td>M</td>\n",
              "      <td>N</td>\n",
              "      <td>Y</td>\n",
              "      <td>0</td>\n",
              "      <td>121500.0</td>\n",
              "      <td>513000.0</td>\n",
              "      <td>21865.5</td>\n",
              "      <td>513000.0</td>\n",
              "      <td>Unaccompanied</td>\n",
              "      <td>Working</td>\n",
              "      <td>Secondary / secondary special</td>\n",
              "      <td>Single / not married</td>\n",
              "      <td>House / apartment</td>\n",
              "      <td>0.028663</td>\n",
              "      <td>-19932</td>\n",
              "      <td>-3038</td>\n",
              "      <td>-4311.0</td>\n",
              "      <td>-3458</td>\n",
              "      <td>NaN</td>\n",
              "      <td>1</td>\n",
              "      <td>1</td>\n",
              "      <td>0</td>\n",
              "      <td>1</td>\n",
              "      <td>0</td>\n",
              "      <td>0</td>\n",
              "      <td>Core staff</td>\n",
              "      <td>1.0</td>\n",
              "      <td>2</td>\n",
              "      <td>2</td>\n",
              "      <td>THURSDAY</td>\n",
              "      <td>11</td>\n",
              "      <td>0</td>\n",
              "      <td>0</td>\n",
              "      <td>0</td>\n",
              "      <td>0</td>\n",
              "      <td>1</td>\n",
              "      <td>1</td>\n",
              "      <td>...</td>\n",
              "      <td>NaN</td>\n",
              "      <td>NaN</td>\n",
              "      <td>NaN</td>\n",
              "      <td>NaN</td>\n",
              "      <td>NaN</td>\n",
              "      <td>NaN</td>\n",
              "      <td>NaN</td>\n",
              "      <td>NaN</td>\n",
              "      <td>NaN</td>\n",
              "      <td>0.0</td>\n",
              "      <td>0.0</td>\n",
              "      <td>0.0</td>\n",
              "      <td>0.0</td>\n",
              "      <td>-1106.0</td>\n",
              "      <td>0</td>\n",
              "      <td>0</td>\n",
              "      <td>0</td>\n",
              "      <td>0</td>\n",
              "      <td>0</td>\n",
              "      <td>0</td>\n",
              "      <td>1</td>\n",
              "      <td>0</td>\n",
              "      <td>0</td>\n",
              "      <td>0</td>\n",
              "      <td>0</td>\n",
              "      <td>0</td>\n",
              "      <td>0</td>\n",
              "      <td>0</td>\n",
              "      <td>0</td>\n",
              "      <td>0</td>\n",
              "      <td>0</td>\n",
              "      <td>0</td>\n",
              "      <td>0</td>\n",
              "      <td>0</td>\n",
              "      <td>0.0</td>\n",
              "      <td>0.0</td>\n",
              "      <td>0.0</td>\n",
              "      <td>0.0</td>\n",
              "      <td>0.0</td>\n",
              "      <td>0.0</td>\n",
              "    </tr>\n",
              "  </tbody>\n",
              "</table>\n",
              "<p>5 rows × 122 columns</p>\n",
              "</div>"
            ],
            "text/plain": [
              "   SK_ID_CURR  TARGET  ... AMT_REQ_CREDIT_BUREAU_QRT AMT_REQ_CREDIT_BUREAU_YEAR\n",
              "0      100002       1  ...                       0.0                        1.0\n",
              "1      100003       0  ...                       0.0                        0.0\n",
              "2      100004       0  ...                       0.0                        0.0\n",
              "3      100006       0  ...                       NaN                        NaN\n",
              "4      100007       0  ...                       0.0                        0.0\n",
              "\n",
              "[5 rows x 122 columns]"
            ]
          },
          "metadata": {
            "tags": []
          },
          "execution_count": 3
        }
      ]
    },
    {
      "cell_type": "markdown",
      "metadata": {
        "id": "f4FzsuE33eGH"
      },
      "source": [
        "Custom Functions"
      ]
    },
    {
      "cell_type": "code",
      "metadata": {
        "id": "rwFc6gvj3hY1"
      },
      "source": [
        "def check_missing_values(df: pd.DataFrame) -> pd.DataFrame:\n",
        "  \"\"\"Checks for missing values in the dataframe\n",
        "\n",
        "    Args:\n",
        "        df (pd.DataFrame): DataFrame to be scanned for missing values\n",
        "    Returns:\n",
        "        Dataframe of features that are mostly missing with percentage and total count\n",
        "  \"\"\"\n",
        "  total = df.isnull().sum().sort_values(ascending=False)\n",
        "  percent = (df.isnull().sum() / df.isnull().count()).sort_values(ascending=False)\n",
        "\n",
        "  return pd.concat([total, percent], axis=1, keys=['total', 'percent'])\n",
        "\n",
        "def chi_test_missing_data(cols: list, df: pd.DataFrame) -> list:\n",
        "  \"\"\"Performs a chi test on given columns\n",
        "\n",
        "    Args:\n",
        "        cols (list) : list of columns to be tested\n",
        "        df (pd.DataFrame): DataFrame to be copied\n",
        "    Returns:\n",
        "        p_results (list) : list of p_values in order of columns given\n",
        "  \"\"\"\n",
        "  p_results = []\n",
        "\n",
        "  for col in cols:\n",
        "    df_temp = df.copy()\n",
        "\n",
        "    df_temp['has_missing_column_test'] = 0\n",
        "    df_temp.loc[df_temp[col].isnull(), 'has_missing_column_test'] = 1\n",
        "\n",
        "    chi_test = stats.chi2_contingency(pd.crosstab(df_temp.has_missing_column_test, df_temp.TARGET))\n",
        "\n",
        "    p_results.append(chi_test[1])\n",
        "  \n",
        "  return p_results"
      ],
      "execution_count": 7,
      "outputs": []
    },
    {
      "cell_type": "markdown",
      "metadata": {
        "id": "rlSuXjEtmMKM"
      },
      "source": [
        "### Missing Values"
      ]
    },
    {
      "cell_type": "code",
      "metadata": {
        "id": "T-yhfj8qmOk9",
        "colab": {
          "base_uri": "https://localhost:8080/",
          "height": 1000
        },
        "outputId": "07368996-11b1-48d6-a7ea-d6be98dc48a5"
      },
      "source": [
        "missing_values = check_missing_values(app_train)\n",
        "missing_values[:50]"
      ],
      "execution_count": 10,
      "outputs": [
        {
          "output_type": "execute_result",
          "data": {
            "text/html": [
              "<div>\n",
              "<style scoped>\n",
              "    .dataframe tbody tr th:only-of-type {\n",
              "        vertical-align: middle;\n",
              "    }\n",
              "\n",
              "    .dataframe tbody tr th {\n",
              "        vertical-align: top;\n",
              "    }\n",
              "\n",
              "    .dataframe thead th {\n",
              "        text-align: right;\n",
              "    }\n",
              "</style>\n",
              "<table border=\"1\" class=\"dataframe\">\n",
              "  <thead>\n",
              "    <tr style=\"text-align: right;\">\n",
              "      <th></th>\n",
              "      <th>total</th>\n",
              "      <th>percent</th>\n",
              "    </tr>\n",
              "  </thead>\n",
              "  <tbody>\n",
              "    <tr>\n",
              "      <th>COMMONAREA_MEDI</th>\n",
              "      <td>214865</td>\n",
              "      <td>0.698723</td>\n",
              "    </tr>\n",
              "    <tr>\n",
              "      <th>COMMONAREA_AVG</th>\n",
              "      <td>214865</td>\n",
              "      <td>0.698723</td>\n",
              "    </tr>\n",
              "    <tr>\n",
              "      <th>COMMONAREA_MODE</th>\n",
              "      <td>214865</td>\n",
              "      <td>0.698723</td>\n",
              "    </tr>\n",
              "    <tr>\n",
              "      <th>NONLIVINGAPARTMENTS_MODE</th>\n",
              "      <td>213514</td>\n",
              "      <td>0.694330</td>\n",
              "    </tr>\n",
              "    <tr>\n",
              "      <th>NONLIVINGAPARTMENTS_MEDI</th>\n",
              "      <td>213514</td>\n",
              "      <td>0.694330</td>\n",
              "    </tr>\n",
              "    <tr>\n",
              "      <th>NONLIVINGAPARTMENTS_AVG</th>\n",
              "      <td>213514</td>\n",
              "      <td>0.694330</td>\n",
              "    </tr>\n",
              "    <tr>\n",
              "      <th>FONDKAPREMONT_MODE</th>\n",
              "      <td>210295</td>\n",
              "      <td>0.683862</td>\n",
              "    </tr>\n",
              "    <tr>\n",
              "      <th>LIVINGAPARTMENTS_MEDI</th>\n",
              "      <td>210199</td>\n",
              "      <td>0.683550</td>\n",
              "    </tr>\n",
              "    <tr>\n",
              "      <th>LIVINGAPARTMENTS_MODE</th>\n",
              "      <td>210199</td>\n",
              "      <td>0.683550</td>\n",
              "    </tr>\n",
              "    <tr>\n",
              "      <th>LIVINGAPARTMENTS_AVG</th>\n",
              "      <td>210199</td>\n",
              "      <td>0.683550</td>\n",
              "    </tr>\n",
              "    <tr>\n",
              "      <th>FLOORSMIN_MEDI</th>\n",
              "      <td>208642</td>\n",
              "      <td>0.678486</td>\n",
              "    </tr>\n",
              "    <tr>\n",
              "      <th>FLOORSMIN_MODE</th>\n",
              "      <td>208642</td>\n",
              "      <td>0.678486</td>\n",
              "    </tr>\n",
              "    <tr>\n",
              "      <th>FLOORSMIN_AVG</th>\n",
              "      <td>208642</td>\n",
              "      <td>0.678486</td>\n",
              "    </tr>\n",
              "    <tr>\n",
              "      <th>YEARS_BUILD_MEDI</th>\n",
              "      <td>204488</td>\n",
              "      <td>0.664978</td>\n",
              "    </tr>\n",
              "    <tr>\n",
              "      <th>YEARS_BUILD_AVG</th>\n",
              "      <td>204488</td>\n",
              "      <td>0.664978</td>\n",
              "    </tr>\n",
              "    <tr>\n",
              "      <th>YEARS_BUILD_MODE</th>\n",
              "      <td>204488</td>\n",
              "      <td>0.664978</td>\n",
              "    </tr>\n",
              "    <tr>\n",
              "      <th>OWN_CAR_AGE</th>\n",
              "      <td>202929</td>\n",
              "      <td>0.659908</td>\n",
              "    </tr>\n",
              "    <tr>\n",
              "      <th>LANDAREA_MODE</th>\n",
              "      <td>182590</td>\n",
              "      <td>0.593767</td>\n",
              "    </tr>\n",
              "    <tr>\n",
              "      <th>LANDAREA_AVG</th>\n",
              "      <td>182590</td>\n",
              "      <td>0.593767</td>\n",
              "    </tr>\n",
              "    <tr>\n",
              "      <th>LANDAREA_MEDI</th>\n",
              "      <td>182590</td>\n",
              "      <td>0.593767</td>\n",
              "    </tr>\n",
              "    <tr>\n",
              "      <th>BASEMENTAREA_MEDI</th>\n",
              "      <td>179943</td>\n",
              "      <td>0.585160</td>\n",
              "    </tr>\n",
              "    <tr>\n",
              "      <th>BASEMENTAREA_AVG</th>\n",
              "      <td>179943</td>\n",
              "      <td>0.585160</td>\n",
              "    </tr>\n",
              "    <tr>\n",
              "      <th>BASEMENTAREA_MODE</th>\n",
              "      <td>179943</td>\n",
              "      <td>0.585160</td>\n",
              "    </tr>\n",
              "    <tr>\n",
              "      <th>EXT_SOURCE_1</th>\n",
              "      <td>173378</td>\n",
              "      <td>0.563811</td>\n",
              "    </tr>\n",
              "    <tr>\n",
              "      <th>NONLIVINGAREA_MEDI</th>\n",
              "      <td>169682</td>\n",
              "      <td>0.551792</td>\n",
              "    </tr>\n",
              "    <tr>\n",
              "      <th>NONLIVINGAREA_AVG</th>\n",
              "      <td>169682</td>\n",
              "      <td>0.551792</td>\n",
              "    </tr>\n",
              "    <tr>\n",
              "      <th>NONLIVINGAREA_MODE</th>\n",
              "      <td>169682</td>\n",
              "      <td>0.551792</td>\n",
              "    </tr>\n",
              "    <tr>\n",
              "      <th>ELEVATORS_MODE</th>\n",
              "      <td>163891</td>\n",
              "      <td>0.532960</td>\n",
              "    </tr>\n",
              "    <tr>\n",
              "      <th>ELEVATORS_AVG</th>\n",
              "      <td>163891</td>\n",
              "      <td>0.532960</td>\n",
              "    </tr>\n",
              "    <tr>\n",
              "      <th>ELEVATORS_MEDI</th>\n",
              "      <td>163891</td>\n",
              "      <td>0.532960</td>\n",
              "    </tr>\n",
              "    <tr>\n",
              "      <th>WALLSMATERIAL_MODE</th>\n",
              "      <td>156341</td>\n",
              "      <td>0.508408</td>\n",
              "    </tr>\n",
              "    <tr>\n",
              "      <th>APARTMENTS_MODE</th>\n",
              "      <td>156061</td>\n",
              "      <td>0.507497</td>\n",
              "    </tr>\n",
              "    <tr>\n",
              "      <th>APARTMENTS_AVG</th>\n",
              "      <td>156061</td>\n",
              "      <td>0.507497</td>\n",
              "    </tr>\n",
              "    <tr>\n",
              "      <th>APARTMENTS_MEDI</th>\n",
              "      <td>156061</td>\n",
              "      <td>0.507497</td>\n",
              "    </tr>\n",
              "    <tr>\n",
              "      <th>ENTRANCES_MEDI</th>\n",
              "      <td>154828</td>\n",
              "      <td>0.503488</td>\n",
              "    </tr>\n",
              "    <tr>\n",
              "      <th>ENTRANCES_MODE</th>\n",
              "      <td>154828</td>\n",
              "      <td>0.503488</td>\n",
              "    </tr>\n",
              "    <tr>\n",
              "      <th>ENTRANCES_AVG</th>\n",
              "      <td>154828</td>\n",
              "      <td>0.503488</td>\n",
              "    </tr>\n",
              "    <tr>\n",
              "      <th>LIVINGAREA_MEDI</th>\n",
              "      <td>154350</td>\n",
              "      <td>0.501933</td>\n",
              "    </tr>\n",
              "    <tr>\n",
              "      <th>LIVINGAREA_MODE</th>\n",
              "      <td>154350</td>\n",
              "      <td>0.501933</td>\n",
              "    </tr>\n",
              "    <tr>\n",
              "      <th>LIVINGAREA_AVG</th>\n",
              "      <td>154350</td>\n",
              "      <td>0.501933</td>\n",
              "    </tr>\n",
              "    <tr>\n",
              "      <th>HOUSETYPE_MODE</th>\n",
              "      <td>154297</td>\n",
              "      <td>0.501761</td>\n",
              "    </tr>\n",
              "    <tr>\n",
              "      <th>FLOORSMAX_MODE</th>\n",
              "      <td>153020</td>\n",
              "      <td>0.497608</td>\n",
              "    </tr>\n",
              "    <tr>\n",
              "      <th>FLOORSMAX_MEDI</th>\n",
              "      <td>153020</td>\n",
              "      <td>0.497608</td>\n",
              "    </tr>\n",
              "    <tr>\n",
              "      <th>FLOORSMAX_AVG</th>\n",
              "      <td>153020</td>\n",
              "      <td>0.497608</td>\n",
              "    </tr>\n",
              "    <tr>\n",
              "      <th>YEARS_BEGINEXPLUATATION_MEDI</th>\n",
              "      <td>150007</td>\n",
              "      <td>0.487810</td>\n",
              "    </tr>\n",
              "    <tr>\n",
              "      <th>YEARS_BEGINEXPLUATATION_AVG</th>\n",
              "      <td>150007</td>\n",
              "      <td>0.487810</td>\n",
              "    </tr>\n",
              "    <tr>\n",
              "      <th>YEARS_BEGINEXPLUATATION_MODE</th>\n",
              "      <td>150007</td>\n",
              "      <td>0.487810</td>\n",
              "    </tr>\n",
              "    <tr>\n",
              "      <th>TOTALAREA_MODE</th>\n",
              "      <td>148431</td>\n",
              "      <td>0.482685</td>\n",
              "    </tr>\n",
              "    <tr>\n",
              "      <th>EMERGENCYSTATE_MODE</th>\n",
              "      <td>145755</td>\n",
              "      <td>0.473983</td>\n",
              "    </tr>\n",
              "    <tr>\n",
              "      <th>OCCUPATION_TYPE</th>\n",
              "      <td>96391</td>\n",
              "      <td>0.313455</td>\n",
              "    </tr>\n",
              "  </tbody>\n",
              "</table>\n",
              "</div>"
            ],
            "text/plain": [
              "                               total   percent\n",
              "COMMONAREA_MEDI               214865  0.698723\n",
              "COMMONAREA_AVG                214865  0.698723\n",
              "COMMONAREA_MODE               214865  0.698723\n",
              "NONLIVINGAPARTMENTS_MODE      213514  0.694330\n",
              "NONLIVINGAPARTMENTS_MEDI      213514  0.694330\n",
              "NONLIVINGAPARTMENTS_AVG       213514  0.694330\n",
              "FONDKAPREMONT_MODE            210295  0.683862\n",
              "LIVINGAPARTMENTS_MEDI         210199  0.683550\n",
              "LIVINGAPARTMENTS_MODE         210199  0.683550\n",
              "LIVINGAPARTMENTS_AVG          210199  0.683550\n",
              "FLOORSMIN_MEDI                208642  0.678486\n",
              "FLOORSMIN_MODE                208642  0.678486\n",
              "FLOORSMIN_AVG                 208642  0.678486\n",
              "YEARS_BUILD_MEDI              204488  0.664978\n",
              "YEARS_BUILD_AVG               204488  0.664978\n",
              "YEARS_BUILD_MODE              204488  0.664978\n",
              "OWN_CAR_AGE                   202929  0.659908\n",
              "LANDAREA_MODE                 182590  0.593767\n",
              "LANDAREA_AVG                  182590  0.593767\n",
              "LANDAREA_MEDI                 182590  0.593767\n",
              "BASEMENTAREA_MEDI             179943  0.585160\n",
              "BASEMENTAREA_AVG              179943  0.585160\n",
              "BASEMENTAREA_MODE             179943  0.585160\n",
              "EXT_SOURCE_1                  173378  0.563811\n",
              "NONLIVINGAREA_MEDI            169682  0.551792\n",
              "NONLIVINGAREA_AVG             169682  0.551792\n",
              "NONLIVINGAREA_MODE            169682  0.551792\n",
              "ELEVATORS_MODE                163891  0.532960\n",
              "ELEVATORS_AVG                 163891  0.532960\n",
              "ELEVATORS_MEDI                163891  0.532960\n",
              "WALLSMATERIAL_MODE            156341  0.508408\n",
              "APARTMENTS_MODE               156061  0.507497\n",
              "APARTMENTS_AVG                156061  0.507497\n",
              "APARTMENTS_MEDI               156061  0.507497\n",
              "ENTRANCES_MEDI                154828  0.503488\n",
              "ENTRANCES_MODE                154828  0.503488\n",
              "ENTRANCES_AVG                 154828  0.503488\n",
              "LIVINGAREA_MEDI               154350  0.501933\n",
              "LIVINGAREA_MODE               154350  0.501933\n",
              "LIVINGAREA_AVG                154350  0.501933\n",
              "HOUSETYPE_MODE                154297  0.501761\n",
              "FLOORSMAX_MODE                153020  0.497608\n",
              "FLOORSMAX_MEDI                153020  0.497608\n",
              "FLOORSMAX_AVG                 153020  0.497608\n",
              "YEARS_BEGINEXPLUATATION_MEDI  150007  0.487810\n",
              "YEARS_BEGINEXPLUATATION_AVG   150007  0.487810\n",
              "YEARS_BEGINEXPLUATATION_MODE  150007  0.487810\n",
              "TOTALAREA_MODE                148431  0.482685\n",
              "EMERGENCYSTATE_MODE           145755  0.473983\n",
              "OCCUPATION_TYPE                96391  0.313455"
            ]
          },
          "metadata": {
            "tags": []
          },
          "execution_count": 10
        }
      ]
    },
    {
      "cell_type": "code",
      "metadata": {
        "id": "wdAQIPexm6rE",
        "colab": {
          "base_uri": "https://localhost:8080/",
          "height": 677
        },
        "outputId": "41fd643e-e422-4428-adef-1648b71244d1"
      },
      "source": [
        "missing_values[50:70]"
      ],
      "execution_count": null,
      "outputs": [
        {
          "output_type": "execute_result",
          "data": {
            "text/html": [
              "<div>\n",
              "<style scoped>\n",
              "    .dataframe tbody tr th:only-of-type {\n",
              "        vertical-align: middle;\n",
              "    }\n",
              "\n",
              "    .dataframe tbody tr th {\n",
              "        vertical-align: top;\n",
              "    }\n",
              "\n",
              "    .dataframe thead th {\n",
              "        text-align: right;\n",
              "    }\n",
              "</style>\n",
              "<table border=\"1\" class=\"dataframe\">\n",
              "  <thead>\n",
              "    <tr style=\"text-align: right;\">\n",
              "      <th></th>\n",
              "      <th>total</th>\n",
              "      <th>percent</th>\n",
              "    </tr>\n",
              "  </thead>\n",
              "  <tbody>\n",
              "    <tr>\n",
              "      <th>EXT_SOURCE_3</th>\n",
              "      <td>60965</td>\n",
              "      <td>0.198253</td>\n",
              "    </tr>\n",
              "    <tr>\n",
              "      <th>AMT_REQ_CREDIT_BUREAU_QRT</th>\n",
              "      <td>41519</td>\n",
              "      <td>0.135016</td>\n",
              "    </tr>\n",
              "    <tr>\n",
              "      <th>AMT_REQ_CREDIT_BUREAU_YEAR</th>\n",
              "      <td>41519</td>\n",
              "      <td>0.135016</td>\n",
              "    </tr>\n",
              "    <tr>\n",
              "      <th>AMT_REQ_CREDIT_BUREAU_WEEK</th>\n",
              "      <td>41519</td>\n",
              "      <td>0.135016</td>\n",
              "    </tr>\n",
              "    <tr>\n",
              "      <th>AMT_REQ_CREDIT_BUREAU_MON</th>\n",
              "      <td>41519</td>\n",
              "      <td>0.135016</td>\n",
              "    </tr>\n",
              "    <tr>\n",
              "      <th>AMT_REQ_CREDIT_BUREAU_DAY</th>\n",
              "      <td>41519</td>\n",
              "      <td>0.135016</td>\n",
              "    </tr>\n",
              "    <tr>\n",
              "      <th>AMT_REQ_CREDIT_BUREAU_HOUR</th>\n",
              "      <td>41519</td>\n",
              "      <td>0.135016</td>\n",
              "    </tr>\n",
              "    <tr>\n",
              "      <th>NAME_TYPE_SUITE</th>\n",
              "      <td>1292</td>\n",
              "      <td>0.004201</td>\n",
              "    </tr>\n",
              "    <tr>\n",
              "      <th>OBS_30_CNT_SOCIAL_CIRCLE</th>\n",
              "      <td>1021</td>\n",
              "      <td>0.003320</td>\n",
              "    </tr>\n",
              "    <tr>\n",
              "      <th>OBS_60_CNT_SOCIAL_CIRCLE</th>\n",
              "      <td>1021</td>\n",
              "      <td>0.003320</td>\n",
              "    </tr>\n",
              "    <tr>\n",
              "      <th>DEF_60_CNT_SOCIAL_CIRCLE</th>\n",
              "      <td>1021</td>\n",
              "      <td>0.003320</td>\n",
              "    </tr>\n",
              "    <tr>\n",
              "      <th>DEF_30_CNT_SOCIAL_CIRCLE</th>\n",
              "      <td>1021</td>\n",
              "      <td>0.003320</td>\n",
              "    </tr>\n",
              "    <tr>\n",
              "      <th>EXT_SOURCE_2</th>\n",
              "      <td>660</td>\n",
              "      <td>0.002146</td>\n",
              "    </tr>\n",
              "    <tr>\n",
              "      <th>AMT_GOODS_PRICE</th>\n",
              "      <td>278</td>\n",
              "      <td>0.000904</td>\n",
              "    </tr>\n",
              "    <tr>\n",
              "      <th>AMT_ANNUITY</th>\n",
              "      <td>12</td>\n",
              "      <td>0.000039</td>\n",
              "    </tr>\n",
              "    <tr>\n",
              "      <th>CNT_FAM_MEMBERS</th>\n",
              "      <td>2</td>\n",
              "      <td>0.000007</td>\n",
              "    </tr>\n",
              "    <tr>\n",
              "      <th>DAYS_LAST_PHONE_CHANGE</th>\n",
              "      <td>1</td>\n",
              "      <td>0.000003</td>\n",
              "    </tr>\n",
              "    <tr>\n",
              "      <th>AMT_CREDIT</th>\n",
              "      <td>0</td>\n",
              "      <td>0.000000</td>\n",
              "    </tr>\n",
              "    <tr>\n",
              "      <th>FLAG_OWN_CAR</th>\n",
              "      <td>0</td>\n",
              "      <td>0.000000</td>\n",
              "    </tr>\n",
              "    <tr>\n",
              "      <th>FLAG_EMAIL</th>\n",
              "      <td>0</td>\n",
              "      <td>0.000000</td>\n",
              "    </tr>\n",
              "  </tbody>\n",
              "</table>\n",
              "</div>"
            ],
            "text/plain": [
              "                            total   percent\n",
              "EXT_SOURCE_3                60965  0.198253\n",
              "AMT_REQ_CREDIT_BUREAU_QRT   41519  0.135016\n",
              "AMT_REQ_CREDIT_BUREAU_YEAR  41519  0.135016\n",
              "AMT_REQ_CREDIT_BUREAU_WEEK  41519  0.135016\n",
              "AMT_REQ_CREDIT_BUREAU_MON   41519  0.135016\n",
              "AMT_REQ_CREDIT_BUREAU_DAY   41519  0.135016\n",
              "AMT_REQ_CREDIT_BUREAU_HOUR  41519  0.135016\n",
              "NAME_TYPE_SUITE              1292  0.004201\n",
              "OBS_30_CNT_SOCIAL_CIRCLE     1021  0.003320\n",
              "OBS_60_CNT_SOCIAL_CIRCLE     1021  0.003320\n",
              "DEF_60_CNT_SOCIAL_CIRCLE     1021  0.003320\n",
              "DEF_30_CNT_SOCIAL_CIRCLE     1021  0.003320\n",
              "EXT_SOURCE_2                  660  0.002146\n",
              "AMT_GOODS_PRICE               278  0.000904\n",
              "AMT_ANNUITY                    12  0.000039\n",
              "CNT_FAM_MEMBERS                 2  0.000007\n",
              "DAYS_LAST_PHONE_CHANGE          1  0.000003\n",
              "AMT_CREDIT                      0  0.000000\n",
              "FLAG_OWN_CAR                    0  0.000000\n",
              "FLAG_EMAIL                      0  0.000000"
            ]
          },
          "metadata": {
            "tags": []
          },
          "execution_count": 6
        }
      ]
    },
    {
      "cell_type": "code",
      "metadata": {
        "colab": {
          "base_uri": "https://localhost:8080/",
          "height": 630
        },
        "id": "QMVRqAR-riDG",
        "outputId": "776c1f7b-b46e-44a5-e9e4-468324049b0c"
      },
      "source": [
        "msno.matrix(app_train)"
      ],
      "execution_count": null,
      "outputs": [
        {
          "output_type": "execute_result",
          "data": {
            "text/plain": [
              "<matplotlib.axes._subplots.AxesSubplot at 0x7f7b98ed64d0>"
            ]
          },
          "metadata": {
            "tags": []
          },
          "execution_count": 5
        },
        {
          "output_type": "display_data",
          "data": {
            "image/png": "[encoded data removed]",
            "text/plain": [
              "<Figure size 1800x720 with 2 Axes>"
            ]
          },
          "metadata": {
            "tags": [],
            "needs_background": "light"
          }
        }
      ]
    },
    {
      "cell_type": "markdown",
      "metadata": {
        "id": "lfa65uz6Zuet"
      },
      "source": [
        "**Missing Data Conclusions**: \\\n",
        "- Most of the data that has high percentage of missing values is house/apartment information\n",
        "\n",
        "- According to Docs, missing values occured due to clients/clerks not filling them in, that can be either to clients not having an apartment or a house, or not having an apartment but having a house, or the opposite. It can also be due to not finding relevance in filling in those values. At this moment there is no way of determining if the client owns a house or an apartment and we cannot impute or flag the values with certainty. This is something we need to keep in mind for feature eng.\n",
        "\n",
        "- OWN_CAR_AGE\n",
        "- OCCUPATION_TYPE\n",
        "- EXT_SOURCE_X comes from external source\n",
        "- AMT_REQ_X did the client previously applied for a loan or not\n",
        "- the rest is a very small percentage so we can impute it with a median value"
      ]
    },
    {
      "cell_type": "markdown",
      "metadata": {
        "id": "hxggG5Yz105a"
      },
      "source": [
        "###### Housing/Apartment missing values\n",
        "\n",
        "We will use Chi-Square test do determain if there is a difference between clients who did not fill in housing/apartment values and clients who did.\n",
        "\n",
        "H0: there is no difference between two groups \\\n",
        "H1: there is a difference between two groups \\\n",
        "Statistical Significance: 0.05 \\\n",
        "\n",
        "If there is a difference between two groups, we will add a flag feature to tell us weather the person has filled in apartment discription or not.\n",
        "\n",
        "\n",
        "**Approach**: \\\n",
        "After consulting the documentation, there are 47 features describing the housing/apartment. \\\n",
        "\n",
        "We can assume that clients who own a house could've skipped filling in values for the apartment and vice versa, therefore we shouldn't check if a client didn't fill in 47 variables, we could lower the threshold to 35 since there are at least 9 variables that are indicating that the variable is only from apartment domain. \n"
      ]
    },
    {
      "cell_type": "code",
      "metadata": {
        "id": "GHe6jc6eo1BO"
      },
      "source": [
        "non_housing_missing_features = ['OWN_CAR_AGE',\n",
        "                                'EXT_SOURCE_1',\n",
        "                                'OCCUPATION_TYPE']\n",
        "\n",
        "housing_normalized_missing_features = list(set(missing_values[:50].index.tolist()) - set(non_housing_missing_features))"
      ],
      "execution_count": 11,
      "outputs": []
    },
    {
      "cell_type": "code",
      "metadata": {
        "id": "QoiPxok7Ztvv",
        "colab": {
          "base_uri": "https://localhost:8080/"
        },
        "outputId": "823a22f3-2ac7-4a0c-cd4c-4628d12cb728"
      },
      "source": [
        "chi_test_data = app_train.copy()\n",
        "\n",
        "chi_test_data['has_missing_housing_info'] = 1\n",
        "chi_test_data.loc[chi_test_data[housing_normalized_missing_features].isnull().sum(axis=1) < 35, 'has_missing_housing_info'] = 0\n",
        "chi_test_data['has_missing_housing_info'].value_counts(normalize=True)"
      ],
      "execution_count": null,
      "outputs": [
        {
          "output_type": "execute_result",
          "data": {
            "text/plain": [
              "0    0.50179\n",
              "1    0.49821\n",
              "Name: has_missing_housing_info, dtype: float64"
            ]
          },
          "metadata": {
            "tags": []
          },
          "execution_count": 112
        }
      ]
    },
    {
      "cell_type": "code",
      "metadata": {
        "colab": {
          "base_uri": "https://localhost:8080/",
          "height": 143
        },
        "id": "n7poCLx-4TKO",
        "outputId": "973d9b29-bc9d-4267-d76f-8c9e61656ef5"
      },
      "source": [
        "pd.crosstab(chi_test_data.has_missing_housing_info, chi_test_data.TARGET)"
      ],
      "execution_count": null,
      "outputs": [
        {
          "output_type": "execute_result",
          "data": {
            "text/html": [
              "<div>\n",
              "<style scoped>\n",
              "    .dataframe tbody tr th:only-of-type {\n",
              "        vertical-align: middle;\n",
              "    }\n",
              "\n",
              "    .dataframe tbody tr th {\n",
              "        vertical-align: top;\n",
              "    }\n",
              "\n",
              "    .dataframe thead th {\n",
              "        text-align: right;\n",
              "    }\n",
              "</style>\n",
              "<table border=\"1\" class=\"dataframe\">\n",
              "  <thead>\n",
              "    <tr style=\"text-align: right;\">\n",
              "      <th>TARGET</th>\n",
              "      <th>0</th>\n",
              "      <th>1</th>\n",
              "    </tr>\n",
              "    <tr>\n",
              "      <th>has_missing_housing_info</th>\n",
              "      <th></th>\n",
              "      <th></th>\n",
              "    </tr>\n",
              "  </thead>\n",
              "  <tbody>\n",
              "    <tr>\n",
              "      <th>0</th>\n",
              "      <td>143556</td>\n",
              "      <td>10750</td>\n",
              "    </tr>\n",
              "    <tr>\n",
              "      <th>1</th>\n",
              "      <td>139130</td>\n",
              "      <td>14075</td>\n",
              "    </tr>\n",
              "  </tbody>\n",
              "</table>\n",
              "</div>"
            ],
            "text/plain": [
              "TARGET                         0      1\n",
              "has_missing_housing_info               \n",
              "0                         143556  10750\n",
              "1                         139130  14075"
            ]
          },
          "metadata": {
            "tags": []
          },
          "execution_count": 113
        }
      ]
    },
    {
      "cell_type": "code",
      "metadata": {
        "colab": {
          "base_uri": "https://localhost:8080/"
        },
        "id": "LdgR5RhxzA1j",
        "outputId": "b877f962-e13c-4da7-9a29-6db7a7f54a6f"
      },
      "source": [
        "chi_test = stats.chi2_contingency(pd.crosstab(chi_test_data.has_missing_housing_info, chi_test_data.TARGET))\n",
        "p = chi_test[1]\n",
        "if p < 0.05:\n",
        "  print(p, \" => reject H0\")\n",
        "else:\n",
        "  print(p, \" => fail to reject H0\")"
      ],
      "execution_count": null,
      "outputs": [
        {
          "output_type": "stream",
          "text": [
            "5.176020966832745e-113  => reject H0\n"
          ],
          "name": "stdout"
        }
      ]
    },
    {
      "cell_type": "markdown",
      "metadata": {
        "id": "7srPcWIP67OF"
      },
      "source": [
        "Given that P value is less then our significance threshold , we can reject the null hypothesis saying that there is no difference between clients who fill in information, and clients who skip filling in information."
      ]
    },
    {
      "cell_type": "markdown",
      "metadata": {
        "id": "BpTkMSCBLFz5"
      },
      "source": [
        "###### OWN_CAR_AGE variable\n",
        "\n",
        "We will check if own_car_age was skipped due to the client not owning a car."
      ]
    },
    {
      "cell_type": "code",
      "metadata": {
        "id": "rBIyuM1yAmXN",
        "colab": {
          "base_uri": "https://localhost:8080/"
        },
        "outputId": "c3e7076b-a4b1-46d8-eeb6-6569e64933ec"
      },
      "source": [
        "app_train['OWN_CAR_AGE'].isnull().sum()"
      ],
      "execution_count": null,
      "outputs": [
        {
          "output_type": "execute_result",
          "data": {
            "text/plain": [
              "202929"
            ]
          },
          "metadata": {
            "tags": []
          },
          "execution_count": 81
        }
      ]
    },
    {
      "cell_type": "code",
      "metadata": {
        "id": "GposHI4mOpEK",
        "colab": {
          "base_uri": "https://localhost:8080/"
        },
        "outputId": "61611b87-a8a8-49b9-dbbb-c626a071f989"
      },
      "source": [
        "app_train[app_train['FLAG_OWN_CAR'] == 'N'].shape"
      ],
      "execution_count": null,
      "outputs": [
        {
          "output_type": "execute_result",
          "data": {
            "text/plain": [
              "(202924, 122)"
            ]
          },
          "metadata": {
            "tags": []
          },
          "execution_count": 98
        }
      ]
    },
    {
      "cell_type": "code",
      "metadata": {
        "id": "e30S8EkbL-Z9",
        "colab": {
          "base_uri": "https://localhost:8080/"
        },
        "outputId": "ca66af1b-f133-420a-ee88-8cccb8ab0bf6"
      },
      "source": [
        "app_train[(app_train['FLAG_OWN_CAR'] == 'N') & (app_train['OWN_CAR_AGE'].isnull())].shape"
      ],
      "execution_count": null,
      "outputs": [
        {
          "output_type": "execute_result",
          "data": {
            "text/plain": [
              "(202924, 122)"
            ]
          },
          "metadata": {
            "tags": []
          },
          "execution_count": 99
        }
      ]
    },
    {
      "cell_type": "code",
      "metadata": {
        "id": "iE_mief2P6Hg",
        "colab": {
          "base_uri": "https://localhost:8080/",
          "height": 81
        },
        "outputId": "9ce3195f-a191-4ed6-fb56-37e5dc3f7b54"
      },
      "source": [
        "own_car_age_show = {'own_car_age_missing': [202929], \n",
        "                    'dont_own_car': [202924], \n",
        "                    'dont_own_car_and_own_car_age_missing': [202924], \n",
        "                    'own_car_and_car_age_missing': [6]}\n",
        "own_car_age_df = pd.DataFrame(data=own_car_age_show)\n",
        "own_car_age_df"
      ],
      "execution_count": null,
      "outputs": [
        {
          "output_type": "execute_result",
          "data": {
            "text/html": [
              "<div>\n",
              "<style scoped>\n",
              "    .dataframe tbody tr th:only-of-type {\n",
              "        vertical-align: middle;\n",
              "    }\n",
              "\n",
              "    .dataframe tbody tr th {\n",
              "        vertical-align: top;\n",
              "    }\n",
              "\n",
              "    .dataframe thead th {\n",
              "        text-align: right;\n",
              "    }\n",
              "</style>\n",
              "<table border=\"1\" class=\"dataframe\">\n",
              "  <thead>\n",
              "    <tr style=\"text-align: right;\">\n",
              "      <th></th>\n",
              "      <th>own_car_age_missing</th>\n",
              "      <th>dont_own_car</th>\n",
              "      <th>dont_own_car_and_own_car_age_missing</th>\n",
              "      <th>own_car_and_car_age_missing</th>\n",
              "    </tr>\n",
              "  </thead>\n",
              "  <tbody>\n",
              "    <tr>\n",
              "      <th>0</th>\n",
              "      <td>202929</td>\n",
              "      <td>202924</td>\n",
              "      <td>202924</td>\n",
              "      <td>6</td>\n",
              "    </tr>\n",
              "  </tbody>\n",
              "</table>\n",
              "</div>"
            ],
            "text/plain": [
              "   own_car_age_missing  ...  own_car_and_car_age_missing\n",
              "0               202929  ...                            6\n",
              "\n",
              "[1 rows x 4 columns]"
            ]
          },
          "metadata": {
            "tags": []
          },
          "execution_count": 101
        }
      ]
    },
    {
      "cell_type": "markdown",
      "metadata": {
        "id": "XH6tQ7PyOZKE"
      },
      "source": [
        "This is an interesting finding, all the clients that don't own a car have missing values for OWN_CAR_AGE variable. There are 6 clients who have a car but haven't filled in the OWN_CAR_AGE. "
      ]
    },
    {
      "cell_type": "markdown",
      "metadata": {
        "id": "mQdQe9iR4bIZ"
      },
      "source": [
        "###### OCCUPATION_TYPE, EXT_SOURCE_X variables\n",
        "\n",
        "Lets us do the same test as with housing/apartment missing values, to know if we should flag the missing values in occupation. \\\n",
        "\n",
        "H0: there is no difference between two groups \\\n",
        "H1: there is a difference between two groups \\\n",
        "Statistical Significance: 0.05 \\\n",
        "\n"
      ]
    },
    {
      "cell_type": "code",
      "metadata": {
        "colab": {
          "base_uri": "https://localhost:8080/"
        },
        "id": "sY7PFYK9EV4q",
        "outputId": "3b26111b-7b53-4b50-9ff2-af8d33e23f9f"
      },
      "source": [
        "p_values = chi_test_missing_data(['OCCUPATION_TYPE', 'EXT_SOURCE_1', 'EXT_SOURCE_2', 'EXT_SOURCE_3'], app_train)\n",
        "\n",
        "for p in p_values:\n",
        "  if p < 0.05:\n",
        "    print(p, \" => reject H0\")\n",
        "  else:\n",
        "    print(p, \" => fail to reject H0\")"
      ],
      "execution_count": null,
      "outputs": [
        {
          "output_type": "stream",
          "text": [
            "4.804746491614818e-102  => reject H0\n",
            "5.139197205071727e-25  => reject H0\n",
            "0.911047427710317  => fail to reject H0\n",
            "4.8894679928311235e-36  => reject H0\n"
          ],
          "name": "stdout"
        }
      ]
    },
    {
      "cell_type": "markdown",
      "metadata": {
        "id": "AC31bYWf8ll4"
      },
      "source": [
        "#### Conclusion: \n",
        "**Appartment/Housing**: Reject the null hypothesis. \\\n",
        "\n",
        "**own_car_age**: There is a correlation between a client not owning a car and having NaN in own_car_age. \\\n",
        "\n",
        "**OCCUPATION_TYPE**: Reject the null hypothesis. \\\n",
        "\n",
        "**EXT_SOURCE_X**: \\\n",
        "**EXT_SOURCE_1**: reject the null hypothesis \\\n",
        "**EXT_SOURCE_2**: fail to reject the null hypothesis \\\n",
        "**EXT_SOURCE_3**: reject the null hypothesis \\\n",
        "\n",
        "**AMT_REQ_X**: We will deal with this after we start using different datasets, since we will be able to find information about it from different data."
      ]
    },
    {
      "cell_type": "markdown",
      "metadata": {
        "id": "KbX27GoY3Taj"
      },
      "source": [
        "### EDA"
      ]
    },
    {
      "cell_type": "code",
      "metadata": {
        "id": "G5ET3oXXZ5Fc",
        "colab": {
          "base_uri": "https://localhost:8080/",
          "height": 350
        },
        "outputId": "4f79c8c8-8300-40f4-be60-e268777609d1"
      },
      "source": [
        "app_train.describe()"
      ],
      "execution_count": null,
      "outputs": [
        {
          "output_type": "execute_result",
          "data": {
            "text/html": [
              "<div>\n",
              "<style scoped>\n",
              "    .dataframe tbody tr th:only-of-type {\n",
              "        vertical-align: middle;\n",
              "    }\n",
              "\n",
              "    .dataframe tbody tr th {\n",
              "        vertical-align: top;\n",
              "    }\n",
              "\n",
              "    .dataframe thead th {\n",
              "        text-align: right;\n",
              "    }\n",
              "</style>\n",
              "<table border=\"1\" class=\"dataframe\">\n",
              "  <thead>\n",
              "    <tr style=\"text-align: right;\">\n",
              "      <th></th>\n",
              "      <th>SK_ID_CURR</th>\n",
              "      <th>TARGET</th>\n",
              "      <th>CNT_CHILDREN</th>\n",
              "      <th>AMT_INCOME_TOTAL</th>\n",
              "      <th>AMT_CREDIT</th>\n",
              "      <th>AMT_ANNUITY</th>\n",
              "      <th>AMT_GOODS_PRICE</th>\n",
              "      <th>REGION_POPULATION_RELATIVE</th>\n",
              "      <th>DAYS_BIRTH</th>\n",
              "      <th>DAYS_EMPLOYED</th>\n",
              "      <th>DAYS_REGISTRATION</th>\n",
              "      <th>DAYS_ID_PUBLISH</th>\n",
              "      <th>OWN_CAR_AGE</th>\n",
              "      <th>FLAG_MOBIL</th>\n",
              "      <th>FLAG_EMP_PHONE</th>\n",
              "      <th>FLAG_WORK_PHONE</th>\n",
              "      <th>FLAG_CONT_MOBILE</th>\n",
              "      <th>FLAG_PHONE</th>\n",
              "      <th>FLAG_EMAIL</th>\n",
              "      <th>CNT_FAM_MEMBERS</th>\n",
              "      <th>REGION_RATING_CLIENT</th>\n",
              "      <th>REGION_RATING_CLIENT_W_CITY</th>\n",
              "      <th>HOUR_APPR_PROCESS_START</th>\n",
              "      <th>REG_REGION_NOT_LIVE_REGION</th>\n",
              "      <th>REG_REGION_NOT_WORK_REGION</th>\n",
              "      <th>LIVE_REGION_NOT_WORK_REGION</th>\n",
              "      <th>REG_CITY_NOT_LIVE_CITY</th>\n",
              "      <th>REG_CITY_NOT_WORK_CITY</th>\n",
              "      <th>LIVE_CITY_NOT_WORK_CITY</th>\n",
              "      <th>EXT_SOURCE_1</th>\n",
              "      <th>EXT_SOURCE_2</th>\n",
              "      <th>EXT_SOURCE_3</th>\n",
              "      <th>APARTMENTS_AVG</th>\n",
              "      <th>BASEMENTAREA_AVG</th>\n",
              "      <th>YEARS_BEGINEXPLUATATION_AVG</th>\n",
              "      <th>YEARS_BUILD_AVG</th>\n",
              "      <th>COMMONAREA_AVG</th>\n",
              "      <th>ELEVATORS_AVG</th>\n",
              "      <th>ENTRANCES_AVG</th>\n",
              "      <th>FLOORSMAX_AVG</th>\n",
              "      <th>...</th>\n",
              "      <th>ENTRANCES_MEDI</th>\n",
              "      <th>FLOORSMAX_MEDI</th>\n",
              "      <th>FLOORSMIN_MEDI</th>\n",
              "      <th>LANDAREA_MEDI</th>\n",
              "      <th>LIVINGAPARTMENTS_MEDI</th>\n",
              "      <th>LIVINGAREA_MEDI</th>\n",
              "      <th>NONLIVINGAPARTMENTS_MEDI</th>\n",
              "      <th>NONLIVINGAREA_MEDI</th>\n",
              "      <th>TOTALAREA_MODE</th>\n",
              "      <th>OBS_30_CNT_SOCIAL_CIRCLE</th>\n",
              "      <th>DEF_30_CNT_SOCIAL_CIRCLE</th>\n",
              "      <th>OBS_60_CNT_SOCIAL_CIRCLE</th>\n",
              "      <th>DEF_60_CNT_SOCIAL_CIRCLE</th>\n",
              "      <th>DAYS_LAST_PHONE_CHANGE</th>\n",
              "      <th>FLAG_DOCUMENT_2</th>\n",
              "      <th>FLAG_DOCUMENT_3</th>\n",
              "      <th>FLAG_DOCUMENT_4</th>\n",
              "      <th>FLAG_DOCUMENT_5</th>\n",
              "      <th>FLAG_DOCUMENT_6</th>\n",
              "      <th>FLAG_DOCUMENT_7</th>\n",
              "      <th>FLAG_DOCUMENT_8</th>\n",
              "      <th>FLAG_DOCUMENT_9</th>\n",
              "      <th>FLAG_DOCUMENT_10</th>\n",
              "      <th>FLAG_DOCUMENT_11</th>\n",
              "      <th>FLAG_DOCUMENT_12</th>\n",
              "      <th>FLAG_DOCUMENT_13</th>\n",
              "      <th>FLAG_DOCUMENT_14</th>\n",
              "      <th>FLAG_DOCUMENT_15</th>\n",
              "      <th>FLAG_DOCUMENT_16</th>\n",
              "      <th>FLAG_DOCUMENT_17</th>\n",
              "      <th>FLAG_DOCUMENT_18</th>\n",
              "      <th>FLAG_DOCUMENT_19</th>\n",
              "      <th>FLAG_DOCUMENT_20</th>\n",
              "      <th>FLAG_DOCUMENT_21</th>\n",
              "      <th>AMT_REQ_CREDIT_BUREAU_HOUR</th>\n",
              "      <th>AMT_REQ_CREDIT_BUREAU_DAY</th>\n",
              "      <th>AMT_REQ_CREDIT_BUREAU_WEEK</th>\n",
              "      <th>AMT_REQ_CREDIT_BUREAU_MON</th>\n",
              "      <th>AMT_REQ_CREDIT_BUREAU_QRT</th>\n",
              "      <th>AMT_REQ_CREDIT_BUREAU_YEAR</th>\n",
              "    </tr>\n",
              "  </thead>\n",
              "  <tbody>\n",
              "    <tr>\n",
              "      <th>count</th>\n",
              "      <td>307511.000000</td>\n",
              "      <td>307511.000000</td>\n",
              "      <td>307511.000000</td>\n",
              "      <td>3.075110e+05</td>\n",
              "      <td>3.075110e+05</td>\n",
              "      <td>307499.000000</td>\n",
              "      <td>3.072330e+05</td>\n",
              "      <td>307511.000000</td>\n",
              "      <td>307511.000000</td>\n",
              "      <td>307511.000000</td>\n",
              "      <td>307511.000000</td>\n",
              "      <td>307511.000000</td>\n",
              "      <td>104582.000000</td>\n",
              "      <td>307511.000000</td>\n",
              "      <td>307511.000000</td>\n",
              "      <td>307511.000000</td>\n",
              "      <td>307511.000000</td>\n",
              "      <td>307511.000000</td>\n",
              "      <td>307511.000000</td>\n",
              "      <td>307509.000000</td>\n",
              "      <td>307511.000000</td>\n",
              "      <td>307511.000000</td>\n",
              "      <td>307511.000000</td>\n",
              "      <td>307511.000000</td>\n",
              "      <td>307511.000000</td>\n",
              "      <td>307511.000000</td>\n",
              "      <td>307511.000000</td>\n",
              "      <td>307511.000000</td>\n",
              "      <td>307511.000000</td>\n",
              "      <td>134133.000000</td>\n",
              "      <td>3.068510e+05</td>\n",
              "      <td>246546.000000</td>\n",
              "      <td>151450.00000</td>\n",
              "      <td>127568.000000</td>\n",
              "      <td>157504.000000</td>\n",
              "      <td>103023.000000</td>\n",
              "      <td>92646.000000</td>\n",
              "      <td>143620.000000</td>\n",
              "      <td>152683.000000</td>\n",
              "      <td>154491.000000</td>\n",
              "      <td>...</td>\n",
              "      <td>152683.000000</td>\n",
              "      <td>154491.000000</td>\n",
              "      <td>98869.000000</td>\n",
              "      <td>124921.000000</td>\n",
              "      <td>97312.000000</td>\n",
              "      <td>153161.000000</td>\n",
              "      <td>93997.000000</td>\n",
              "      <td>137829.000000</td>\n",
              "      <td>159080.000000</td>\n",
              "      <td>306490.000000</td>\n",
              "      <td>306490.000000</td>\n",
              "      <td>306490.000000</td>\n",
              "      <td>306490.000000</td>\n",
              "      <td>307510.000000</td>\n",
              "      <td>307511.000000</td>\n",
              "      <td>307511.000000</td>\n",
              "      <td>307511.000000</td>\n",
              "      <td>307511.000000</td>\n",
              "      <td>307511.000000</td>\n",
              "      <td>307511.000000</td>\n",
              "      <td>307511.000000</td>\n",
              "      <td>307511.000000</td>\n",
              "      <td>307511.000000</td>\n",
              "      <td>307511.000000</td>\n",
              "      <td>307511.000000</td>\n",
              "      <td>307511.000000</td>\n",
              "      <td>307511.000000</td>\n",
              "      <td>307511.00000</td>\n",
              "      <td>307511.000000</td>\n",
              "      <td>307511.000000</td>\n",
              "      <td>307511.000000</td>\n",
              "      <td>307511.000000</td>\n",
              "      <td>307511.000000</td>\n",
              "      <td>307511.000000</td>\n",
              "      <td>265992.000000</td>\n",
              "      <td>265992.000000</td>\n",
              "      <td>265992.000000</td>\n",
              "      <td>265992.000000</td>\n",
              "      <td>265992.000000</td>\n",
              "      <td>265992.000000</td>\n",
              "    </tr>\n",
              "    <tr>\n",
              "      <th>mean</th>\n",
              "      <td>278180.518577</td>\n",
              "      <td>0.080729</td>\n",
              "      <td>0.417052</td>\n",
              "      <td>1.687979e+05</td>\n",
              "      <td>5.990260e+05</td>\n",
              "      <td>27108.573909</td>\n",
              "      <td>5.383962e+05</td>\n",
              "      <td>0.020868</td>\n",
              "      <td>-16036.995067</td>\n",
              "      <td>63815.045904</td>\n",
              "      <td>-4986.120328</td>\n",
              "      <td>-2994.202373</td>\n",
              "      <td>12.061091</td>\n",
              "      <td>0.999997</td>\n",
              "      <td>0.819889</td>\n",
              "      <td>0.199368</td>\n",
              "      <td>0.998133</td>\n",
              "      <td>0.281066</td>\n",
              "      <td>0.056720</td>\n",
              "      <td>2.152665</td>\n",
              "      <td>2.052463</td>\n",
              "      <td>2.031521</td>\n",
              "      <td>12.063419</td>\n",
              "      <td>0.015144</td>\n",
              "      <td>0.050769</td>\n",
              "      <td>0.040659</td>\n",
              "      <td>0.078173</td>\n",
              "      <td>0.230454</td>\n",
              "      <td>0.179555</td>\n",
              "      <td>0.502130</td>\n",
              "      <td>5.143927e-01</td>\n",
              "      <td>0.510853</td>\n",
              "      <td>0.11744</td>\n",
              "      <td>0.088442</td>\n",
              "      <td>0.977735</td>\n",
              "      <td>0.752471</td>\n",
              "      <td>0.044621</td>\n",
              "      <td>0.078942</td>\n",
              "      <td>0.149725</td>\n",
              "      <td>0.226282</td>\n",
              "      <td>...</td>\n",
              "      <td>0.149213</td>\n",
              "      <td>0.225897</td>\n",
              "      <td>0.231625</td>\n",
              "      <td>0.067169</td>\n",
              "      <td>0.101954</td>\n",
              "      <td>0.108607</td>\n",
              "      <td>0.008651</td>\n",
              "      <td>0.028236</td>\n",
              "      <td>0.102547</td>\n",
              "      <td>1.422245</td>\n",
              "      <td>0.143421</td>\n",
              "      <td>1.405292</td>\n",
              "      <td>0.100049</td>\n",
              "      <td>-962.858788</td>\n",
              "      <td>0.000042</td>\n",
              "      <td>0.710023</td>\n",
              "      <td>0.000081</td>\n",
              "      <td>0.015115</td>\n",
              "      <td>0.088055</td>\n",
              "      <td>0.000192</td>\n",
              "      <td>0.081376</td>\n",
              "      <td>0.003896</td>\n",
              "      <td>0.000023</td>\n",
              "      <td>0.003912</td>\n",
              "      <td>0.000007</td>\n",
              "      <td>0.003525</td>\n",
              "      <td>0.002936</td>\n",
              "      <td>0.00121</td>\n",
              "      <td>0.009928</td>\n",
              "      <td>0.000267</td>\n",
              "      <td>0.008130</td>\n",
              "      <td>0.000595</td>\n",
              "      <td>0.000507</td>\n",
              "      <td>0.000335</td>\n",
              "      <td>0.006402</td>\n",
              "      <td>0.007000</td>\n",
              "      <td>0.034362</td>\n",
              "      <td>0.267395</td>\n",
              "      <td>0.265474</td>\n",
              "      <td>1.899974</td>\n",
              "    </tr>\n",
              "    <tr>\n",
              "      <th>std</th>\n",
              "      <td>102790.175348</td>\n",
              "      <td>0.272419</td>\n",
              "      <td>0.722121</td>\n",
              "      <td>2.371231e+05</td>\n",
              "      <td>4.024908e+05</td>\n",
              "      <td>14493.737315</td>\n",
              "      <td>3.694465e+05</td>\n",
              "      <td>0.013831</td>\n",
              "      <td>4363.988632</td>\n",
              "      <td>141275.766519</td>\n",
              "      <td>3522.886321</td>\n",
              "      <td>1509.450419</td>\n",
              "      <td>11.944812</td>\n",
              "      <td>0.001803</td>\n",
              "      <td>0.384280</td>\n",
              "      <td>0.399526</td>\n",
              "      <td>0.043164</td>\n",
              "      <td>0.449521</td>\n",
              "      <td>0.231307</td>\n",
              "      <td>0.910682</td>\n",
              "      <td>0.509034</td>\n",
              "      <td>0.502737</td>\n",
              "      <td>3.265832</td>\n",
              "      <td>0.122126</td>\n",
              "      <td>0.219526</td>\n",
              "      <td>0.197499</td>\n",
              "      <td>0.268444</td>\n",
              "      <td>0.421124</td>\n",
              "      <td>0.383817</td>\n",
              "      <td>0.211062</td>\n",
              "      <td>1.910602e-01</td>\n",
              "      <td>0.194844</td>\n",
              "      <td>0.10824</td>\n",
              "      <td>0.082438</td>\n",
              "      <td>0.059223</td>\n",
              "      <td>0.113280</td>\n",
              "      <td>0.076036</td>\n",
              "      <td>0.134576</td>\n",
              "      <td>0.100049</td>\n",
              "      <td>0.144641</td>\n",
              "      <td>...</td>\n",
              "      <td>0.100368</td>\n",
              "      <td>0.145067</td>\n",
              "      <td>0.161934</td>\n",
              "      <td>0.082167</td>\n",
              "      <td>0.093642</td>\n",
              "      <td>0.112260</td>\n",
              "      <td>0.047415</td>\n",
              "      <td>0.070166</td>\n",
              "      <td>0.107462</td>\n",
              "      <td>2.400989</td>\n",
              "      <td>0.446698</td>\n",
              "      <td>2.379803</td>\n",
              "      <td>0.362291</td>\n",
              "      <td>826.808487</td>\n",
              "      <td>0.006502</td>\n",
              "      <td>0.453752</td>\n",
              "      <td>0.009016</td>\n",
              "      <td>0.122010</td>\n",
              "      <td>0.283376</td>\n",
              "      <td>0.013850</td>\n",
              "      <td>0.273412</td>\n",
              "      <td>0.062295</td>\n",
              "      <td>0.004771</td>\n",
              "      <td>0.062424</td>\n",
              "      <td>0.002550</td>\n",
              "      <td>0.059268</td>\n",
              "      <td>0.054110</td>\n",
              "      <td>0.03476</td>\n",
              "      <td>0.099144</td>\n",
              "      <td>0.016327</td>\n",
              "      <td>0.089798</td>\n",
              "      <td>0.024387</td>\n",
              "      <td>0.022518</td>\n",
              "      <td>0.018299</td>\n",
              "      <td>0.083849</td>\n",
              "      <td>0.110757</td>\n",
              "      <td>0.204685</td>\n",
              "      <td>0.916002</td>\n",
              "      <td>0.794056</td>\n",
              "      <td>1.869295</td>\n",
              "    </tr>\n",
              "    <tr>\n",
              "      <th>min</th>\n",
              "      <td>100002.000000</td>\n",
              "      <td>0.000000</td>\n",
              "      <td>0.000000</td>\n",
              "      <td>2.565000e+04</td>\n",
              "      <td>4.500000e+04</td>\n",
              "      <td>1615.500000</td>\n",
              "      <td>4.050000e+04</td>\n",
              "      <td>0.000290</td>\n",
              "      <td>-25229.000000</td>\n",
              "      <td>-17912.000000</td>\n",
              "      <td>-24672.000000</td>\n",
              "      <td>-7197.000000</td>\n",
              "      <td>0.000000</td>\n",
              "      <td>0.000000</td>\n",
              "      <td>0.000000</td>\n",
              "      <td>0.000000</td>\n",
              "      <td>0.000000</td>\n",
              "      <td>0.000000</td>\n",
              "      <td>0.000000</td>\n",
              "      <td>1.000000</td>\n",
              "      <td>1.000000</td>\n",
              "      <td>1.000000</td>\n",
              "      <td>0.000000</td>\n",
              "      <td>0.000000</td>\n",
              "      <td>0.000000</td>\n",
              "      <td>0.000000</td>\n",
              "      <td>0.000000</td>\n",
              "      <td>0.000000</td>\n",
              "      <td>0.000000</td>\n",
              "      <td>0.014568</td>\n",
              "      <td>8.173617e-08</td>\n",
              "      <td>0.000527</td>\n",
              "      <td>0.00000</td>\n",
              "      <td>0.000000</td>\n",
              "      <td>0.000000</td>\n",
              "      <td>0.000000</td>\n",
              "      <td>0.000000</td>\n",
              "      <td>0.000000</td>\n",
              "      <td>0.000000</td>\n",
              "      <td>0.000000</td>\n",
              "      <td>...</td>\n",
              "      <td>0.000000</td>\n",
              "      <td>0.000000</td>\n",
              "      <td>0.000000</td>\n",
              "      <td>0.000000</td>\n",
              "      <td>0.000000</td>\n",
              "      <td>0.000000</td>\n",
              "      <td>0.000000</td>\n",
              "      <td>0.000000</td>\n",
              "      <td>0.000000</td>\n",
              "      <td>0.000000</td>\n",
              "      <td>0.000000</td>\n",
              "      <td>0.000000</td>\n",
              "      <td>0.000000</td>\n",
              "      <td>-4292.000000</td>\n",
              "      <td>0.000000</td>\n",
              "      <td>0.000000</td>\n",
              "      <td>0.000000</td>\n",
              "      <td>0.000000</td>\n",
              "      <td>0.000000</td>\n",
              "      <td>0.000000</td>\n",
              "      <td>0.000000</td>\n",
              "      <td>0.000000</td>\n",
              "      <td>0.000000</td>\n",
              "      <td>0.000000</td>\n",
              "      <td>0.000000</td>\n",
              "      <td>0.000000</td>\n",
              "      <td>0.000000</td>\n",
              "      <td>0.00000</td>\n",
              "      <td>0.000000</td>\n",
              "      <td>0.000000</td>\n",
              "      <td>0.000000</td>\n",
              "      <td>0.000000</td>\n",
              "      <td>0.000000</td>\n",
              "      <td>0.000000</td>\n",
              "      <td>0.000000</td>\n",
              "      <td>0.000000</td>\n",
              "      <td>0.000000</td>\n",
              "      <td>0.000000</td>\n",
              "      <td>0.000000</td>\n",
              "      <td>0.000000</td>\n",
              "    </tr>\n",
              "    <tr>\n",
              "      <th>25%</th>\n",
              "      <td>189145.500000</td>\n",
              "      <td>0.000000</td>\n",
              "      <td>0.000000</td>\n",
              "      <td>1.125000e+05</td>\n",
              "      <td>2.700000e+05</td>\n",
              "      <td>16524.000000</td>\n",
              "      <td>2.385000e+05</td>\n",
              "      <td>0.010006</td>\n",
              "      <td>-19682.000000</td>\n",
              "      <td>-2760.000000</td>\n",
              "      <td>-7479.500000</td>\n",
              "      <td>-4299.000000</td>\n",
              "      <td>5.000000</td>\n",
              "      <td>1.000000</td>\n",
              "      <td>1.000000</td>\n",
              "      <td>0.000000</td>\n",
              "      <td>1.000000</td>\n",
              "      <td>0.000000</td>\n",
              "      <td>0.000000</td>\n",
              "      <td>2.000000</td>\n",
              "      <td>2.000000</td>\n",
              "      <td>2.000000</td>\n",
              "      <td>10.000000</td>\n",
              "      <td>0.000000</td>\n",
              "      <td>0.000000</td>\n",
              "      <td>0.000000</td>\n",
              "      <td>0.000000</td>\n",
              "      <td>0.000000</td>\n",
              "      <td>0.000000</td>\n",
              "      <td>0.334007</td>\n",
              "      <td>3.924574e-01</td>\n",
              "      <td>0.370650</td>\n",
              "      <td>0.05770</td>\n",
              "      <td>0.044200</td>\n",
              "      <td>0.976700</td>\n",
              "      <td>0.687200</td>\n",
              "      <td>0.007800</td>\n",
              "      <td>0.000000</td>\n",
              "      <td>0.069000</td>\n",
              "      <td>0.166700</td>\n",
              "      <td>...</td>\n",
              "      <td>0.069000</td>\n",
              "      <td>0.166700</td>\n",
              "      <td>0.083300</td>\n",
              "      <td>0.018700</td>\n",
              "      <td>0.051300</td>\n",
              "      <td>0.045700</td>\n",
              "      <td>0.000000</td>\n",
              "      <td>0.000000</td>\n",
              "      <td>0.041200</td>\n",
              "      <td>0.000000</td>\n",
              "      <td>0.000000</td>\n",
              "      <td>0.000000</td>\n",
              "      <td>0.000000</td>\n",
              "      <td>-1570.000000</td>\n",
              "      <td>0.000000</td>\n",
              "      <td>0.000000</td>\n",
              "      <td>0.000000</td>\n",
              "      <td>0.000000</td>\n",
              "      <td>0.000000</td>\n",
              "      <td>0.000000</td>\n",
              "      <td>0.000000</td>\n",
              "      <td>0.000000</td>\n",
              "      <td>0.000000</td>\n",
              "      <td>0.000000</td>\n",
              "      <td>0.000000</td>\n",
              "      <td>0.000000</td>\n",
              "      <td>0.000000</td>\n",
              "      <td>0.00000</td>\n",
              "      <td>0.000000</td>\n",
              "      <td>0.000000</td>\n",
              "      <td>0.000000</td>\n",
              "      <td>0.000000</td>\n",
              "      <td>0.000000</td>\n",
              "      <td>0.000000</td>\n",
              "      <td>0.000000</td>\n",
              "      <td>0.000000</td>\n",
              "      <td>0.000000</td>\n",
              "      <td>0.000000</td>\n",
              "      <td>0.000000</td>\n",
              "      <td>0.000000</td>\n",
              "    </tr>\n",
              "    <tr>\n",
              "      <th>50%</th>\n",
              "      <td>278202.000000</td>\n",
              "      <td>0.000000</td>\n",
              "      <td>0.000000</td>\n",
              "      <td>1.471500e+05</td>\n",
              "      <td>5.135310e+05</td>\n",
              "      <td>24903.000000</td>\n",
              "      <td>4.500000e+05</td>\n",
              "      <td>0.018850</td>\n",
              "      <td>-15750.000000</td>\n",
              "      <td>-1213.000000</td>\n",
              "      <td>-4504.000000</td>\n",
              "      <td>-3254.000000</td>\n",
              "      <td>9.000000</td>\n",
              "      <td>1.000000</td>\n",
              "      <td>1.000000</td>\n",
              "      <td>0.000000</td>\n",
              "      <td>1.000000</td>\n",
              "      <td>0.000000</td>\n",
              "      <td>0.000000</td>\n",
              "      <td>2.000000</td>\n",
              "      <td>2.000000</td>\n",
              "      <td>2.000000</td>\n",
              "      <td>12.000000</td>\n",
              "      <td>0.000000</td>\n",
              "      <td>0.000000</td>\n",
              "      <td>0.000000</td>\n",
              "      <td>0.000000</td>\n",
              "      <td>0.000000</td>\n",
              "      <td>0.000000</td>\n",
              "      <td>0.505998</td>\n",
              "      <td>5.659614e-01</td>\n",
              "      <td>0.535276</td>\n",
              "      <td>0.08760</td>\n",
              "      <td>0.076300</td>\n",
              "      <td>0.981600</td>\n",
              "      <td>0.755200</td>\n",
              "      <td>0.021100</td>\n",
              "      <td>0.000000</td>\n",
              "      <td>0.137900</td>\n",
              "      <td>0.166700</td>\n",
              "      <td>...</td>\n",
              "      <td>0.137900</td>\n",
              "      <td>0.166700</td>\n",
              "      <td>0.208300</td>\n",
              "      <td>0.048700</td>\n",
              "      <td>0.076100</td>\n",
              "      <td>0.074900</td>\n",
              "      <td>0.000000</td>\n",
              "      <td>0.003100</td>\n",
              "      <td>0.068800</td>\n",
              "      <td>0.000000</td>\n",
              "      <td>0.000000</td>\n",
              "      <td>0.000000</td>\n",
              "      <td>0.000000</td>\n",
              "      <td>-757.000000</td>\n",
              "      <td>0.000000</td>\n",
              "      <td>1.000000</td>\n",
              "      <td>0.000000</td>\n",
              "      <td>0.000000</td>\n",
              "      <td>0.000000</td>\n",
              "      <td>0.000000</td>\n",
              "      <td>0.000000</td>\n",
              "      <td>0.000000</td>\n",
              "      <td>0.000000</td>\n",
              "      <td>0.000000</td>\n",
              "      <td>0.000000</td>\n",
              "      <td>0.000000</td>\n",
              "      <td>0.000000</td>\n",
              "      <td>0.00000</td>\n",
              "      <td>0.000000</td>\n",
              "      <td>0.000000</td>\n",
              "      <td>0.000000</td>\n",
              "      <td>0.000000</td>\n",
              "      <td>0.000000</td>\n",
              "      <td>0.000000</td>\n",
              "      <td>0.000000</td>\n",
              "      <td>0.000000</td>\n",
              "      <td>0.000000</td>\n",
              "      <td>0.000000</td>\n",
              "      <td>0.000000</td>\n",
              "      <td>1.000000</td>\n",
              "    </tr>\n",
              "    <tr>\n",
              "      <th>75%</th>\n",
              "      <td>367142.500000</td>\n",
              "      <td>0.000000</td>\n",
              "      <td>1.000000</td>\n",
              "      <td>2.025000e+05</td>\n",
              "      <td>8.086500e+05</td>\n",
              "      <td>34596.000000</td>\n",
              "      <td>6.795000e+05</td>\n",
              "      <td>0.028663</td>\n",
              "      <td>-12413.000000</td>\n",
              "      <td>-289.000000</td>\n",
              "      <td>-2010.000000</td>\n",
              "      <td>-1720.000000</td>\n",
              "      <td>15.000000</td>\n",
              "      <td>1.000000</td>\n",
              "      <td>1.000000</td>\n",
              "      <td>0.000000</td>\n",
              "      <td>1.000000</td>\n",
              "      <td>1.000000</td>\n",
              "      <td>0.000000</td>\n",
              "      <td>3.000000</td>\n",
              "      <td>2.000000</td>\n",
              "      <td>2.000000</td>\n",
              "      <td>14.000000</td>\n",
              "      <td>0.000000</td>\n",
              "      <td>0.000000</td>\n",
              "      <td>0.000000</td>\n",
              "      <td>0.000000</td>\n",
              "      <td>0.000000</td>\n",
              "      <td>0.000000</td>\n",
              "      <td>0.675053</td>\n",
              "      <td>6.636171e-01</td>\n",
              "      <td>0.669057</td>\n",
              "      <td>0.14850</td>\n",
              "      <td>0.112200</td>\n",
              "      <td>0.986600</td>\n",
              "      <td>0.823200</td>\n",
              "      <td>0.051500</td>\n",
              "      <td>0.120000</td>\n",
              "      <td>0.206900</td>\n",
              "      <td>0.333300</td>\n",
              "      <td>...</td>\n",
              "      <td>0.206900</td>\n",
              "      <td>0.333300</td>\n",
              "      <td>0.375000</td>\n",
              "      <td>0.086800</td>\n",
              "      <td>0.123100</td>\n",
              "      <td>0.130300</td>\n",
              "      <td>0.003900</td>\n",
              "      <td>0.026600</td>\n",
              "      <td>0.127600</td>\n",
              "      <td>2.000000</td>\n",
              "      <td>0.000000</td>\n",
              "      <td>2.000000</td>\n",
              "      <td>0.000000</td>\n",
              "      <td>-274.000000</td>\n",
              "      <td>0.000000</td>\n",
              "      <td>1.000000</td>\n",
              "      <td>0.000000</td>\n",
              "      <td>0.000000</td>\n",
              "      <td>0.000000</td>\n",
              "      <td>0.000000</td>\n",
              "      <td>0.000000</td>\n",
              "      <td>0.000000</td>\n",
              "      <td>0.000000</td>\n",
              "      <td>0.000000</td>\n",
              "      <td>0.000000</td>\n",
              "      <td>0.000000</td>\n",
              "      <td>0.000000</td>\n",
              "      <td>0.00000</td>\n",
              "      <td>0.000000</td>\n",
              "      <td>0.000000</td>\n",
              "      <td>0.000000</td>\n",
              "      <td>0.000000</td>\n",
              "      <td>0.000000</td>\n",
              "      <td>0.000000</td>\n",
              "      <td>0.000000</td>\n",
              "      <td>0.000000</td>\n",
              "      <td>0.000000</td>\n",
              "      <td>0.000000</td>\n",
              "      <td>0.000000</td>\n",
              "      <td>3.000000</td>\n",
              "    </tr>\n",
              "    <tr>\n",
              "      <th>max</th>\n",
              "      <td>456255.000000</td>\n",
              "      <td>1.000000</td>\n",
              "      <td>19.000000</td>\n",
              "      <td>1.170000e+08</td>\n",
              "      <td>4.050000e+06</td>\n",
              "      <td>258025.500000</td>\n",
              "      <td>4.050000e+06</td>\n",
              "      <td>0.072508</td>\n",
              "      <td>-7489.000000</td>\n",
              "      <td>365243.000000</td>\n",
              "      <td>0.000000</td>\n",
              "      <td>0.000000</td>\n",
              "      <td>91.000000</td>\n",
              "      <td>1.000000</td>\n",
              "      <td>1.000000</td>\n",
              "      <td>1.000000</td>\n",
              "      <td>1.000000</td>\n",
              "      <td>1.000000</td>\n",
              "      <td>1.000000</td>\n",
              "      <td>20.000000</td>\n",
              "      <td>3.000000</td>\n",
              "      <td>3.000000</td>\n",
              "      <td>23.000000</td>\n",
              "      <td>1.000000</td>\n",
              "      <td>1.000000</td>\n",
              "      <td>1.000000</td>\n",
              "      <td>1.000000</td>\n",
              "      <td>1.000000</td>\n",
              "      <td>1.000000</td>\n",
              "      <td>0.962693</td>\n",
              "      <td>8.549997e-01</td>\n",
              "      <td>0.896010</td>\n",
              "      <td>1.00000</td>\n",
              "      <td>1.000000</td>\n",
              "      <td>1.000000</td>\n",
              "      <td>1.000000</td>\n",
              "      <td>1.000000</td>\n",
              "      <td>1.000000</td>\n",
              "      <td>1.000000</td>\n",
              "      <td>1.000000</td>\n",
              "      <td>...</td>\n",
              "      <td>1.000000</td>\n",
              "      <td>1.000000</td>\n",
              "      <td>1.000000</td>\n",
              "      <td>1.000000</td>\n",
              "      <td>1.000000</td>\n",
              "      <td>1.000000</td>\n",
              "      <td>1.000000</td>\n",
              "      <td>1.000000</td>\n",
              "      <td>1.000000</td>\n",
              "      <td>348.000000</td>\n",
              "      <td>34.000000</td>\n",
              "      <td>344.000000</td>\n",
              "      <td>24.000000</td>\n",
              "      <td>0.000000</td>\n",
              "      <td>1.000000</td>\n",
              "      <td>1.000000</td>\n",
              "      <td>1.000000</td>\n",
              "      <td>1.000000</td>\n",
              "      <td>1.000000</td>\n",
              "      <td>1.000000</td>\n",
              "      <td>1.000000</td>\n",
              "      <td>1.000000</td>\n",
              "      <td>1.000000</td>\n",
              "      <td>1.000000</td>\n",
              "      <td>1.000000</td>\n",
              "      <td>1.000000</td>\n",
              "      <td>1.000000</td>\n",
              "      <td>1.00000</td>\n",
              "      <td>1.000000</td>\n",
              "      <td>1.000000</td>\n",
              "      <td>1.000000</td>\n",
              "      <td>1.000000</td>\n",
              "      <td>1.000000</td>\n",
              "      <td>1.000000</td>\n",
              "      <td>4.000000</td>\n",
              "      <td>9.000000</td>\n",
              "      <td>8.000000</td>\n",
              "      <td>27.000000</td>\n",
              "      <td>261.000000</td>\n",
              "      <td>25.000000</td>\n",
              "    </tr>\n",
              "  </tbody>\n",
              "</table>\n",
              "<p>8 rows × 106 columns</p>\n",
              "</div>"
            ],
            "text/plain": [
              "          SK_ID_CURR  ...  AMT_REQ_CREDIT_BUREAU_YEAR\n",
              "count  307511.000000  ...               265992.000000\n",
              "mean   278180.518577  ...                    1.899974\n",
              "std    102790.175348  ...                    1.869295\n",
              "min    100002.000000  ...                    0.000000\n",
              "25%    189145.500000  ...                    0.000000\n",
              "50%    278202.000000  ...                    1.000000\n",
              "75%    367142.500000  ...                    3.000000\n",
              "max    456255.000000  ...                   25.000000\n",
              "\n",
              "[8 rows x 106 columns]"
            ]
          },
          "metadata": {
            "tags": []
          },
          "execution_count": 46
        }
      ]
    },
    {
      "cell_type": "markdown",
      "metadata": {
        "id": "WFSuZILgaWt7"
      },
      "source": [
        "Looking at the Train Data briefly: \\\n",
        "\n",
        "We can see our target variable, it contains 0 and 1 values, with a mean of 0.08 and we can interpret that as a high class imbalance, we should explore it more.\n",
        "\n",
        "There are encoded values with 0-1, we should consult documentation a bit later when we explore each feature more."
      ]
    },
    {
      "cell_type": "markdown",
      "metadata": {
        "id": "2lJrvklVQFbQ"
      },
      "source": [
        "##### Explore target"
      ]
    },
    {
      "cell_type": "code",
      "metadata": {
        "id": "Fy3IdJGYfydR",
        "colab": {
          "base_uri": "https://localhost:8080/"
        },
        "outputId": "4572b160-fec8-4961-9874-9b2f0582b576"
      },
      "source": [
        "app_train['TARGET'].value_counts(normalize=True)"
      ],
      "execution_count": null,
      "outputs": [
        {
          "output_type": "execute_result",
          "data": {
            "text/plain": [
              "0    0.919271\n",
              "1    0.080729\n",
              "Name: TARGET, dtype: float64"
            ]
          },
          "metadata": {
            "tags": []
          },
          "execution_count": 11
        }
      ]
    },
    {
      "cell_type": "code",
      "metadata": {
        "id": "KNgHuVR0gDZD",
        "colab": {
          "base_uri": "https://localhost:8080/",
          "height": 295
        },
        "outputId": "ebee6423-eec5-428c-ca90-d0e54958f08d"
      },
      "source": [
        "ax = sns.histplot(app_train['TARGET'], stat='probability')\n",
        "ax.set(xlabel=\"Target Class\", ylabel='Class Probability', title=\"Target Distribution\")\n",
        "plt.show()"
      ],
      "execution_count": null,
      "outputs": [
        {
          "output_type": "display_data",
          "data": {
            "image/png": "[encoded data removed]",
            "text/plain": [
              "<Figure size 432x288 with 1 Axes>"
            ]
          },
          "metadata": {
            "tags": [],
            "needs_background": "light"
          }
        }
      ]
    },
    {
      "cell_type": "markdown",
      "metadata": {
        "id": "A3kxN0uIi17-"
      },
      "source": [
        "We will need to deal with class imbalance. We could use SMOTE to generate more data with target value as 1. When we are performing the train/test split, we should stratisfy the split based on our class ratio."
      ]
    },
    {
      "cell_type": "markdown",
      "metadata": {
        "id": "oc93_p8eP67N"
      },
      "source": [
        "##### Explore Categorical vars"
      ]
    },
    {
      "cell_type": "code",
      "metadata": {
        "colab": {
          "base_uri": "https://localhost:8080/"
        },
        "id": "MuwU03ro5A7I",
        "outputId": "e64718c8-0173-4e8a-c5bb-5b911249e640"
      },
      "source": [
        "app_train[app_train['NAME_FAMILY_STATUS']=='Unknown'].shape"
      ],
      "execution_count": null,
      "outputs": [
        {
          "output_type": "execute_result",
          "data": {
            "text/plain": [
              "(2, 122)"
            ]
          },
          "metadata": {
            "tags": []
          },
          "execution_count": 19
        }
      ]
    },
    {
      "cell_type": "code",
      "metadata": {
        "id": "qhjmjkNdvbH0",
        "colab": {
          "base_uri": "https://localhost:8080/"
        },
        "outputId": "b22b5624-5432-49e5-de14-fe73af5edcd3"
      },
      "source": [
        "app_train['CODE_GENDER'].value_counts(normalize=True)"
      ],
      "execution_count": 54,
      "outputs": [
        {
          "output_type": "execute_result",
          "data": {
            "text/plain": [
              "F      0.658344\n",
              "M      0.341643\n",
              "XNA    0.000013\n",
              "Name: CODE_GENDER, dtype: float64"
            ]
          },
          "metadata": {
            "tags": []
          },
          "execution_count": 54
        }
      ]
    },
    {
      "cell_type": "code",
      "metadata": {
        "id": "a-xMu20BwPeK"
      },
      "source": [
        "app_train.loc[app_train[app_train['CODE_GENDER'] == 'XNA'].index, 'CODE_GENDER'] = np.nan"
      ],
      "execution_count": 55,
      "outputs": []
    },
    {
      "cell_type": "code",
      "metadata": {
        "colab": {
          "base_uri": "https://localhost:8080/",
          "height": 1000
        },
        "id": "AhBhsI09ONCD",
        "outputId": "4449b540-2f89-4f6a-c02d-d02481dee824"
      },
      "source": [
        "categorical_vars_data.dropna()"
      ],
      "execution_count": 62,
      "outputs": [
        {
          "output_type": "execute_result",
          "data": {
            "text/html": [
              "<div>\n",
              "<style scoped>\n",
              "    .dataframe tbody tr th:only-of-type {\n",
              "        vertical-align: middle;\n",
              "    }\n",
              "\n",
              "    .dataframe tbody tr th {\n",
              "        vertical-align: top;\n",
              "    }\n",
              "\n",
              "    .dataframe thead th {\n",
              "        text-align: right;\n",
              "    }\n",
              "</style>\n",
              "<table border=\"1\" class=\"dataframe\">\n",
              "  <thead>\n",
              "    <tr style=\"text-align: right;\">\n",
              "      <th></th>\n",
              "      <th>var_names</th>\n",
              "      <th>aproach</th>\n",
              "    </tr>\n",
              "  </thead>\n",
              "  <tbody>\n",
              "    <tr>\n",
              "      <th>0</th>\n",
              "      <td>NAME_CONTRACT_TYPE</td>\n",
              "      <td>one hot encode, 0-1</td>\n",
              "    </tr>\n",
              "    <tr>\n",
              "      <th>1</th>\n",
              "      <td>CODE_GENDER</td>\n",
              "      <td>one hot encode, 0-1</td>\n",
              "    </tr>\n",
              "    <tr>\n",
              "      <th>2</th>\n",
              "      <td>FLAG_OWN_CAR</td>\n",
              "      <td>one hot encode, 0-1</td>\n",
              "    </tr>\n",
              "    <tr>\n",
              "      <th>3</th>\n",
              "      <td>FLAG_OWN_REALTY</td>\n",
              "      <td>one hot encode, 0-1</td>\n",
              "    </tr>\n",
              "    <tr>\n",
              "      <th>5</th>\n",
              "      <td>NAME_TYPE_SUITE</td>\n",
              "      <td>one hot encode, 0-1</td>\n",
              "    </tr>\n",
              "    <tr>\n",
              "      <th>6</th>\n",
              "      <td>NAME_INCOME_TYPE</td>\n",
              "      <td>one hot encode, 0-1</td>\n",
              "    </tr>\n",
              "    <tr>\n",
              "      <th>7</th>\n",
              "      <td>NAME_EDUCATION_TYPE</td>\n",
              "      <td>one hot encode, 0-1</td>\n",
              "    </tr>\n",
              "    <tr>\n",
              "      <th>8</th>\n",
              "      <td>NAME_FAMILY_STATUS</td>\n",
              "      <td>one hot encode, 0-1, remove unknown, only 2 users</td>\n",
              "    </tr>\n",
              "    <tr>\n",
              "      <th>9</th>\n",
              "      <td>NAME_HOUSING_TYPE</td>\n",
              "      <td>one hot encode, 0-1</td>\n",
              "    </tr>\n",
              "    <tr>\n",
              "      <th>12</th>\n",
              "      <td>OCCUPATION_TYPE</td>\n",
              "      <td>one hot encode, 0-1</td>\n",
              "    </tr>\n",
              "    <tr>\n",
              "      <th>13</th>\n",
              "      <td>CNT_FAM_MEMBERS</td>\n",
              "      <td>one hot encode, 0-1, can group</td>\n",
              "    </tr>\n",
              "    <tr>\n",
              "      <th>14</th>\n",
              "      <td>REGION_RATING_CLIENT</td>\n",
              "      <td>keep</td>\n",
              "    </tr>\n",
              "    <tr>\n",
              "      <th>15</th>\n",
              "      <td>REGION_RATING_CLIENT_W_CITY</td>\n",
              "      <td>keep</td>\n",
              "    </tr>\n",
              "    <tr>\n",
              "      <th>16</th>\n",
              "      <td>WEEKDAY_APPR_PROCESS_START</td>\n",
              "      <td>one hot encode, 0-1</td>\n",
              "    </tr>\n",
              "    <tr>\n",
              "      <th>17</th>\n",
              "      <td>HOUR_APPR_PROCESS_START</td>\n",
              "      <td>one hot encode, 0-1</td>\n",
              "    </tr>\n",
              "    <tr>\n",
              "      <th>19</th>\n",
              "      <td>ORGANIZATION_TYPE</td>\n",
              "      <td>one hot encode, 0-1</td>\n",
              "    </tr>\n",
              "    <tr>\n",
              "      <th>20</th>\n",
              "      <td>FONDKAPREMONT_MODE</td>\n",
              "      <td>one hot encode, 0-1</td>\n",
              "    </tr>\n",
              "    <tr>\n",
              "      <th>21</th>\n",
              "      <td>HOUSETYPE_MODE</td>\n",
              "      <td>one hot encode, 0-1</td>\n",
              "    </tr>\n",
              "    <tr>\n",
              "      <th>22</th>\n",
              "      <td>WALLSMATERIAL_MODE</td>\n",
              "      <td>one hot encode, 0-1</td>\n",
              "    </tr>\n",
              "    <tr>\n",
              "      <th>23</th>\n",
              "      <td>EMERGENCYSTATE_MODE</td>\n",
              "      <td>one hot encode, 0-1</td>\n",
              "    </tr>\n",
              "    <tr>\n",
              "      <th>27</th>\n",
              "      <td>FLAG_DOCUMENT_2</td>\n",
              "      <td>keep</td>\n",
              "    </tr>\n",
              "    <tr>\n",
              "      <th>28</th>\n",
              "      <td>FLAG_DOCUMENT_3</td>\n",
              "      <td>keep</td>\n",
              "    </tr>\n",
              "    <tr>\n",
              "      <th>29</th>\n",
              "      <td>FLAG_DOCUMENT_4</td>\n",
              "      <td>keep</td>\n",
              "    </tr>\n",
              "    <tr>\n",
              "      <th>30</th>\n",
              "      <td>FLAG_DOCUMENT_5</td>\n",
              "      <td>keep</td>\n",
              "    </tr>\n",
              "    <tr>\n",
              "      <th>31</th>\n",
              "      <td>FLAG_DOCUMENT_6</td>\n",
              "      <td>keep</td>\n",
              "    </tr>\n",
              "    <tr>\n",
              "      <th>32</th>\n",
              "      <td>FLAG_DOCUMENT_7</td>\n",
              "      <td>keep</td>\n",
              "    </tr>\n",
              "    <tr>\n",
              "      <th>33</th>\n",
              "      <td>FLAG_DOCUMENT_8</td>\n",
              "      <td>keep</td>\n",
              "    </tr>\n",
              "    <tr>\n",
              "      <th>34</th>\n",
              "      <td>FLAG_DOCUMENT_9</td>\n",
              "      <td>keep</td>\n",
              "    </tr>\n",
              "    <tr>\n",
              "      <th>35</th>\n",
              "      <td>FLAG_DOCUMENT_10</td>\n",
              "      <td>keep</td>\n",
              "    </tr>\n",
              "    <tr>\n",
              "      <th>36</th>\n",
              "      <td>FLAG_DOCUMENT_11</td>\n",
              "      <td>keep</td>\n",
              "    </tr>\n",
              "    <tr>\n",
              "      <th>37</th>\n",
              "      <td>FLAG_DOCUMENT_12</td>\n",
              "      <td>keep</td>\n",
              "    </tr>\n",
              "    <tr>\n",
              "      <th>38</th>\n",
              "      <td>FLAG_DOCUMENT_13</td>\n",
              "      <td>keep</td>\n",
              "    </tr>\n",
              "    <tr>\n",
              "      <th>39</th>\n",
              "      <td>FLAG_DOCUMENT_14</td>\n",
              "      <td>keep</td>\n",
              "    </tr>\n",
              "    <tr>\n",
              "      <th>40</th>\n",
              "      <td>FLAG_DOCUMENT_15</td>\n",
              "      <td>keep</td>\n",
              "    </tr>\n",
              "    <tr>\n",
              "      <th>41</th>\n",
              "      <td>FLAG_DOCUMENT_16</td>\n",
              "      <td>keep</td>\n",
              "    </tr>\n",
              "    <tr>\n",
              "      <th>42</th>\n",
              "      <td>FLAG_DOCUMENT_17</td>\n",
              "      <td>keep</td>\n",
              "    </tr>\n",
              "    <tr>\n",
              "      <th>43</th>\n",
              "      <td>FLAG_DOCUMENT_18</td>\n",
              "      <td>keep</td>\n",
              "    </tr>\n",
              "    <tr>\n",
              "      <th>44</th>\n",
              "      <td>FLAG_DOCUMENT_19</td>\n",
              "      <td>keep</td>\n",
              "    </tr>\n",
              "    <tr>\n",
              "      <th>45</th>\n",
              "      <td>FLAG_DOCUMENT_20</td>\n",
              "      <td>keep</td>\n",
              "    </tr>\n",
              "    <tr>\n",
              "      <th>46</th>\n",
              "      <td>FLAG_DOCUMENT_21</td>\n",
              "      <td>keep</td>\n",
              "    </tr>\n",
              "    <tr>\n",
              "      <th>47</th>\n",
              "      <td>FLAG_MOBIL</td>\n",
              "      <td>keep</td>\n",
              "    </tr>\n",
              "    <tr>\n",
              "      <th>48</th>\n",
              "      <td>FLAG_EMP_PHONE</td>\n",
              "      <td>keep</td>\n",
              "    </tr>\n",
              "    <tr>\n",
              "      <th>49</th>\n",
              "      <td>FLAG_WORK_PHONE</td>\n",
              "      <td>keep</td>\n",
              "    </tr>\n",
              "    <tr>\n",
              "      <th>50</th>\n",
              "      <td>FLAG_CONT_MOBILE</td>\n",
              "      <td>keep</td>\n",
              "    </tr>\n",
              "    <tr>\n",
              "      <th>51</th>\n",
              "      <td>FLAG_PHONE</td>\n",
              "      <td>keep</td>\n",
              "    </tr>\n",
              "    <tr>\n",
              "      <th>52</th>\n",
              "      <td>FLAG_EMAIL</td>\n",
              "      <td>keep</td>\n",
              "    </tr>\n",
              "    <tr>\n",
              "      <th>53</th>\n",
              "      <td>REG_REGION_NOT_LIVE_REGION</td>\n",
              "      <td>keep</td>\n",
              "    </tr>\n",
              "    <tr>\n",
              "      <th>54</th>\n",
              "      <td>REG_REGION_NOT_WORK_REGION</td>\n",
              "      <td>keep</td>\n",
              "    </tr>\n",
              "    <tr>\n",
              "      <th>55</th>\n",
              "      <td>LIVE_REGION_NOT_WORK_REGION</td>\n",
              "      <td>keep</td>\n",
              "    </tr>\n",
              "    <tr>\n",
              "      <th>56</th>\n",
              "      <td>REG_CITY_NOT_LIVE_CITY</td>\n",
              "      <td>keep</td>\n",
              "    </tr>\n",
              "    <tr>\n",
              "      <th>57</th>\n",
              "      <td>REG_CITY_NOT_WORK_CITY</td>\n",
              "      <td>keep</td>\n",
              "    </tr>\n",
              "    <tr>\n",
              "      <th>58</th>\n",
              "      <td>LIVE_CITY_NOT_WORK_CITY</td>\n",
              "      <td>keep</td>\n",
              "    </tr>\n",
              "    <tr>\n",
              "      <th>59</th>\n",
              "      <td>OBS_30_CNT_SOCIAL_CIRCLE</td>\n",
              "      <td>keep</td>\n",
              "    </tr>\n",
              "    <tr>\n",
              "      <th>60</th>\n",
              "      <td>DEF_30_CNT_SOCIAL_CIRCLE</td>\n",
              "      <td>keep</td>\n",
              "    </tr>\n",
              "    <tr>\n",
              "      <th>61</th>\n",
              "      <td>OBS_60_CNT_SOCIAL_CIRCLE</td>\n",
              "      <td>keep</td>\n",
              "    </tr>\n",
              "    <tr>\n",
              "      <th>62</th>\n",
              "      <td>DEF_60_CNT_SOCIAL_CIRCLE</td>\n",
              "      <td>keep</td>\n",
              "    </tr>\n",
              "  </tbody>\n",
              "</table>\n",
              "</div>"
            ],
            "text/plain": [
              "                      var_names                                            aproach\n",
              "0            NAME_CONTRACT_TYPE                                one hot encode, 0-1\n",
              "1                   CODE_GENDER                                one hot encode, 0-1\n",
              "2                  FLAG_OWN_CAR                                one hot encode, 0-1\n",
              "3               FLAG_OWN_REALTY                                one hot encode, 0-1\n",
              "5               NAME_TYPE_SUITE                                one hot encode, 0-1\n",
              "6              NAME_INCOME_TYPE                                one hot encode, 0-1\n",
              "7           NAME_EDUCATION_TYPE                                one hot encode, 0-1\n",
              "8            NAME_FAMILY_STATUS  one hot encode, 0-1, remove unknown, only 2 users\n",
              "9             NAME_HOUSING_TYPE                                one hot encode, 0-1\n",
              "12              OCCUPATION_TYPE                                one hot encode, 0-1\n",
              "13              CNT_FAM_MEMBERS                     one hot encode, 0-1, can group\n",
              "14         REGION_RATING_CLIENT                                               keep\n",
              "15  REGION_RATING_CLIENT_W_CITY                                               keep\n",
              "16   WEEKDAY_APPR_PROCESS_START                                one hot encode, 0-1\n",
              "17      HOUR_APPR_PROCESS_START                                one hot encode, 0-1\n",
              "19            ORGANIZATION_TYPE                                one hot encode, 0-1\n",
              "20           FONDKAPREMONT_MODE                                one hot encode, 0-1\n",
              "21               HOUSETYPE_MODE                                one hot encode, 0-1\n",
              "22           WALLSMATERIAL_MODE                                one hot encode, 0-1\n",
              "23          EMERGENCYSTATE_MODE                                one hot encode, 0-1\n",
              "27              FLAG_DOCUMENT_2                                               keep\n",
              "28              FLAG_DOCUMENT_3                                               keep\n",
              "29              FLAG_DOCUMENT_4                                               keep\n",
              "30              FLAG_DOCUMENT_5                                               keep\n",
              "31              FLAG_DOCUMENT_6                                               keep\n",
              "32              FLAG_DOCUMENT_7                                               keep\n",
              "33              FLAG_DOCUMENT_8                                               keep\n",
              "34              FLAG_DOCUMENT_9                                               keep\n",
              "35             FLAG_DOCUMENT_10                                               keep\n",
              "36             FLAG_DOCUMENT_11                                               keep\n",
              "37             FLAG_DOCUMENT_12                                               keep\n",
              "38             FLAG_DOCUMENT_13                                               keep\n",
              "39             FLAG_DOCUMENT_14                                               keep\n",
              "40             FLAG_DOCUMENT_15                                               keep\n",
              "41             FLAG_DOCUMENT_16                                               keep\n",
              "42             FLAG_DOCUMENT_17                                               keep\n",
              "43             FLAG_DOCUMENT_18                                               keep\n",
              "44             FLAG_DOCUMENT_19                                               keep\n",
              "45             FLAG_DOCUMENT_20                                               keep\n",
              "46             FLAG_DOCUMENT_21                                               keep\n",
              "47                   FLAG_MOBIL                                               keep\n",
              "48               FLAG_EMP_PHONE                                               keep\n",
              "49              FLAG_WORK_PHONE                                               keep\n",
              "50             FLAG_CONT_MOBILE                                               keep\n",
              "51                   FLAG_PHONE                                               keep\n",
              "52                   FLAG_EMAIL                                               keep\n",
              "53   REG_REGION_NOT_LIVE_REGION                                               keep\n",
              "54   REG_REGION_NOT_WORK_REGION                                               keep\n",
              "55  LIVE_REGION_NOT_WORK_REGION                                               keep\n",
              "56       REG_CITY_NOT_LIVE_CITY                                               keep\n",
              "57       REG_CITY_NOT_WORK_CITY                                               keep\n",
              "58      LIVE_CITY_NOT_WORK_CITY                                               keep\n",
              "59     OBS_30_CNT_SOCIAL_CIRCLE                                               keep\n",
              "60     DEF_30_CNT_SOCIAL_CIRCLE                                               keep\n",
              "61     OBS_60_CNT_SOCIAL_CIRCLE                                               keep\n",
              "62     DEF_60_CNT_SOCIAL_CIRCLE                                               keep"
            ]
          },
          "metadata": {
            "tags": []
          },
          "execution_count": 62
        }
      ]
    },
    {
      "cell_type": "markdown",
      "metadata": {
        "id": "8dFon-_scy7G"
      },
      "source": [
        "##### Check the distribution of Continuous Features"
      ]
    },
    {
      "cell_type": "code",
      "metadata": {
        "colab": {
          "base_uri": "https://localhost:8080/"
        },
        "id": "Odpn1qdCRpLG",
        "outputId": "75665250-da19-4b22-dd5b-a64ee02d8114"
      },
      "source": [
        "continuous_vars = [item for item in app_train.columns.tolist() if item not in categorical_vars_data.var_names.tolist()]\n",
        "len(continuous_vars[2:])"
      ],
      "execution_count": null,
      "outputs": [
        {
          "output_type": "execute_result",
          "data": {
            "text/plain": [
              "56"
            ]
          },
          "metadata": {
            "tags": []
          },
          "execution_count": 6
        }
      ]
    },
    {
      "cell_type": "code",
      "metadata": {
        "colab": {
          "base_uri": "https://localhost:8080/",
          "height": 1000
        },
        "id": "2RItUa4kSXxi",
        "outputId": "4e9c12f2-59c9-4d3a-f8b4-0436780c984e"
      },
      "source": [
        "plt.figure(figsize=(26, 24))\n",
        "for i, col in enumerate(continuous_vars[2:30]):\n",
        "    plt.subplot(7, 4, i + 1)\n",
        "    plt.hist(app_train[col])\n",
        "    plt.title(col)"
      ],
      "execution_count": null,
      "outputs": [
        {
          "output_type": "display_data",
          "data": {
            "image/png": "[encoded data removed]",
            "text/plain": [
              "<Figure size 1872x1728 with 28 Axes>"
            ]
          },
          "metadata": {
            "tags": [],
            "needs_background": "light"
          }
        }
      ]
    },
    {
      "cell_type": "code",
      "metadata": {
        "colab": {
          "base_uri": "https://localhost:8080/",
          "height": 1000
        },
        "id": "utdLJuGTWw4s",
        "outputId": "3cf1e69b-d09e-460e-925d-f543356df454"
      },
      "source": [
        "plt.figure(figsize=(26, 24))\n",
        "for i, col in enumerate(continuous_vars[30:]):\n",
        "    plt.subplot(7, 4, i + 1)\n",
        "    plt.hist(app_train[col])\n",
        "    plt.title(col)"
      ],
      "execution_count": null,
      "outputs": [
        {
          "output_type": "display_data",
          "data": {
            "image/png": "[encoded data removed]",
            "text/plain": [
              "<Figure size 1872x1728 with 28 Axes>"
            ]
          },
          "metadata": {
            "tags": [],
            "needs_background": "light"
          }
        }
      ]
    },
    {
      "cell_type": "markdown",
      "metadata": {
        "id": "wdgZLAx4fPgk"
      },
      "source": [
        "Cols to explore more:\n",
        "- DAYS_EMPLOYED (seems to have some discontinuity, we need to check those)\n"
      ]
    },
    {
      "cell_type": "markdown",
      "metadata": {
        "id": "BdHeVc_F7mwS"
      },
      "source": [
        "###### DAYS_EMPLOYED"
      ]
    },
    {
      "cell_type": "code",
      "metadata": {
        "id": "NoXEu-Nwobjv",
        "colab": {
          "base_uri": "https://localhost:8080/",
          "height": 295
        },
        "outputId": "12398775-e3c9-439d-c264-54b9d56117db"
      },
      "source": [
        "ax = app_train['DAYS_EMPLOYED'].plot.hist()\n",
        "ax.set(xlabel=\"Days of Employment\", ylabel='Count', title=\"Days Employed Distribution\")\n",
        "plt.show()"
      ],
      "execution_count": 67,
      "outputs": [
        {
          "output_type": "display_data",
          "data": {
            "image/png": "[encoded data removed]",
            "text/plain": [
              "<Figure size 432x288 with 1 Axes>"
            ]
          },
          "metadata": {
            "tags": [],
            "needs_background": "light"
          }
        }
      ]
    },
    {
      "cell_type": "code",
      "metadata": {
        "id": "MfWMfKY6sS3q",
        "colab": {
          "base_uri": "https://localhost:8080/"
        },
        "outputId": "73d677b8-1e4b-41c2-c854-a8281136d939"
      },
      "source": [
        "app_train[app_train['DAYS_EMPLOYED'] > 0].shape"
      ],
      "execution_count": null,
      "outputs": [
        {
          "output_type": "execute_result",
          "data": {
            "text/plain": [
              "(55374, 122)"
            ]
          },
          "metadata": {
            "tags": []
          },
          "execution_count": 26
        }
      ]
    },
    {
      "cell_type": "code",
      "metadata": {
        "id": "za2Ll1lzronq",
        "colab": {
          "base_uri": "https://localhost:8080/"
        },
        "outputId": "364b1694-b2fc-46c2-ce1f-ef9e07093bfb"
      },
      "source": [
        "app_train[app_train['DAYS_EMPLOYED'] > 0]['DAYS_EMPLOYED'].unique()"
      ],
      "execution_count": null,
      "outputs": [
        {
          "output_type": "execute_result",
          "data": {
            "text/plain": [
              "array([365243])"
            ]
          },
          "metadata": {
            "tags": []
          },
          "execution_count": 28
        }
      ]
    },
    {
      "cell_type": "code",
      "metadata": {
        "id": "uydME5SAsvPO",
        "colab": {
          "base_uri": "https://localhost:8080/",
          "height": 295
        },
        "outputId": "7fea6c5c-b942-4fe9-e3d1-ce200d14ee28"
      },
      "source": [
        "ax = app_train[app_train['DAYS_EMPLOYED'] <= 0]['DAYS_EMPLOYED'].plot.hist()\n",
        "ax.set(xlabel=\"Days of Employment\", ylabel='Count', title=\"Days Employed Distribution less than 0\")\n",
        "plt.show()"
      ],
      "execution_count": 69,
      "outputs": [
        {
          "output_type": "display_data",
          "data": {
            "image/png": "[encoded data removed]",
            "text/plain": [
              "<Figure size 432x288 with 1 Axes>"
            ]
          },
          "metadata": {
            "tags": [],
            "needs_background": "light"
          }
        }
      ]
    },
    {
      "cell_type": "markdown",
      "metadata": {
        "id": "sWTeK4Pyyw7H"
      },
      "source": [
        "Values above 0 have a fixed value of 365243. \\\n",
        "\n",
        "We will check if there is a difference between clients with fixed value and those below 0 regarding TARGET variable."
      ]
    },
    {
      "cell_type": "code",
      "metadata": {
        "id": "QZpnv3JOt41j",
        "colab": {
          "base_uri": "https://localhost:8080/"
        },
        "outputId": "0a73bde9-9125-4d7e-f32d-7436bab7ac9a"
      },
      "source": [
        "days_employed_chi_test = app_train.copy()\n",
        "days_employed_chi_test['days_employed_anomaly'] = 1\n",
        "\n",
        "days_employed_chi_test.loc[days_employed_chi_test['DAYS_EMPLOYED'] <= 0, 'days_employed_anomaly'] = 0\n",
        "days_employed_chi_test['days_employed_anomaly'].value_counts(normalize=True)"
      ],
      "execution_count": null,
      "outputs": [
        {
          "output_type": "execute_result",
          "data": {
            "text/plain": [
              "0    0.819928\n",
              "1    0.180072\n",
              "Name: days_employed_anomaly, dtype: float64"
            ]
          },
          "metadata": {
            "tags": []
          },
          "execution_count": 32
        }
      ]
    },
    {
      "cell_type": "markdown",
      "metadata": {
        "id": "hE24i1eBzg3n"
      },
      "source": [
        "H0: there is no difference between two groups \\\n",
        "H1: there is a difference between two groups \\\n",
        "Statistical Significance: 0.05 \\"
      ]
    },
    {
      "cell_type": "code",
      "metadata": {
        "id": "DjJiXq-SxDHn",
        "colab": {
          "base_uri": "https://localhost:8080/"
        },
        "outputId": "e9ac55c3-1f91-4b67-8ed4-f0093a1e4796"
      },
      "source": [
        "chi_test_days_employed = stats.chi2_contingency(pd.crosstab(days_employed_chi_test.days_employed_anomaly, days_employed_chi_test.TARGET))\n",
        "p = chi_test_days_employed[1]\n",
        "if p < 0.05:\n",
        "  print(p, \" => reject H0\")\n",
        "else:\n",
        "  print(p, \" => fail to reject H0\")"
      ],
      "execution_count": null,
      "outputs": [
        {
          "output_type": "stream",
          "text": [
            "2.362426759854694e-143  => reject H0\n"
          ],
          "name": "stdout"
        }
      ]
    },
    {
      "cell_type": "markdown",
      "metadata": {
        "id": "R0mzYLh9xQN8"
      },
      "source": [
        "Our p is close to 0, so we can reject the null hypothesis. \\\n",
        "\n",
        "We can flag the values, replace fixed value with a missing value and impute with median, or leave as is and just flag it with a binary feature."
      ]
    },
    {
      "cell_type": "markdown",
      "metadata": {
        "id": "Y_FPQ__n7qUw"
      },
      "source": [
        "###### DAYS_BIRTH"
      ]
    },
    {
      "cell_type": "code",
      "metadata": {
        "id": "6fGUiGzN7s5e",
        "colab": {
          "base_uri": "https://localhost:8080/",
          "height": 295
        },
        "outputId": "4fb0688a-0fab-4176-b0d4-df36111196ed"
      },
      "source": [
        "ax = app_train['DAYS_BIRTH'].plot.hist()\n",
        "ax.set(xlabel=\"Days after birth\", ylabel='Count', title=\"Days Birth Distribution\")\n",
        "plt.show()"
      ],
      "execution_count": 70,
      "outputs": [
        {
          "output_type": "display_data",
          "data": {
            "image/png": "[encoded data removed]",
            "text/plain": [
              "<Figure size 432x288 with 1 Axes>"
            ]
          },
          "metadata": {
            "tags": [],
            "needs_background": "light"
          }
        }
      ]
    },
    {
      "cell_type": "code",
      "metadata": {
        "id": "6EXjdO42-W56",
        "colab": {
          "base_uri": "https://localhost:8080/",
          "height": 295
        },
        "outputId": "c8c1ee1d-9173-4537-de16-4383c44e481a"
      },
      "source": [
        "client_age = app_train['DAYS_BIRTH']\n",
        "ax = client_age.plot.hist()\n",
        "ax.set(xlabel=\"Client Age\", ylabel='Count', title=\"Age of Clients Distribution\")\n",
        "plt.show()"
      ],
      "execution_count": 75,
      "outputs": [
        {
          "output_type": "display_data",
          "data": {
            "image/png": "[encoded data removed]",
            "text/plain": [
              "<Figure size 432x288 with 1 Axes>"
            ]
          },
          "metadata": {
            "tags": [],
            "needs_background": "light"
          }
        }
      ]
    },
    {
      "cell_type": "markdown",
      "metadata": {
        "id": "OGclgtr7BjbL"
      },
      "source": [
        "It looks like clients age are between 20-70 years old."
      ]
    },
    {
      "cell_type": "markdown",
      "metadata": {
        "id": "ntPHX_70LhSb"
      },
      "source": [
        "##### Correlation"
      ]
    },
    {
      "cell_type": "code",
      "metadata": {
        "id": "auWvidTBLuN_"
      },
      "source": [
        "correlations = app_train.corr()['TARGET'].sort_values()"
      ],
      "execution_count": null,
      "outputs": []
    },
    {
      "cell_type": "code",
      "metadata": {
        "id": "u8NObMqqL5sY",
        "colab": {
          "base_uri": "https://localhost:8080/"
        },
        "outputId": "5016f002-3cab-46b6-8180-ddeb12b8d793"
      },
      "source": [
        "correlations[:20]"
      ],
      "execution_count": null,
      "outputs": [
        {
          "output_type": "execute_result",
          "data": {
            "text/plain": [
              "EXT_SOURCE_3                 -0.178919\n",
              "EXT_SOURCE_2                 -0.160472\n",
              "EXT_SOURCE_1                 -0.155317\n",
              "DAYS_EMPLOYED                -0.044932\n",
              "FLOORSMAX_AVG                -0.044003\n",
              "FLOORSMAX_MEDI               -0.043768\n",
              "FLOORSMAX_MODE               -0.043226\n",
              "AMT_GOODS_PRICE              -0.039645\n",
              "REGION_POPULATION_RELATIVE   -0.037227\n",
              "ELEVATORS_AVG                -0.034199\n",
              "ELEVATORS_MEDI               -0.033863\n",
              "FLOORSMIN_AVG                -0.033614\n",
              "FLOORSMIN_MEDI               -0.033394\n",
              "LIVINGAREA_AVG               -0.032997\n",
              "LIVINGAREA_MEDI              -0.032739\n",
              "FLOORSMIN_MODE               -0.032698\n",
              "TOTALAREA_MODE               -0.032596\n",
              "ELEVATORS_MODE               -0.032131\n",
              "LIVINGAREA_MODE              -0.030685\n",
              "AMT_CREDIT                   -0.030369\n",
              "Name: TARGET, dtype: float64"
            ]
          },
          "metadata": {
            "tags": []
          },
          "execution_count": 40
        }
      ]
    },
    {
      "cell_type": "code",
      "metadata": {
        "id": "HJpmvQxjL9FL",
        "colab": {
          "base_uri": "https://localhost:8080/"
        },
        "outputId": "08796482-e251-4bbf-9c06-78903275c518"
      },
      "source": [
        "correlations[86:]"
      ],
      "execution_count": null,
      "outputs": [
        {
          "output_type": "execute_result",
          "data": {
            "text/plain": [
              "OBS_30_CNT_SOCIAL_CIRCLE       0.009131\n",
              "CNT_FAM_MEMBERS                0.009308\n",
              "CNT_CHILDREN                   0.019187\n",
              "AMT_REQ_CREDIT_BUREAU_YEAR     0.019930\n",
              "FLAG_WORK_PHONE                0.028524\n",
              "DEF_60_CNT_SOCIAL_CIRCLE       0.031276\n",
              "DEF_30_CNT_SOCIAL_CIRCLE       0.032248\n",
              "LIVE_CITY_NOT_WORK_CITY        0.032518\n",
              "OWN_CAR_AGE                    0.037612\n",
              "DAYS_REGISTRATION              0.041975\n",
              "FLAG_DOCUMENT_3                0.044346\n",
              "REG_CITY_NOT_LIVE_CITY         0.044395\n",
              "FLAG_EMP_PHONE                 0.045982\n",
              "REG_CITY_NOT_WORK_CITY         0.050994\n",
              "DAYS_ID_PUBLISH                0.051457\n",
              "DAYS_LAST_PHONE_CHANGE         0.055218\n",
              "REGION_RATING_CLIENT           0.058899\n",
              "REGION_RATING_CLIENT_W_CITY    0.060893\n",
              "DAYS_BIRTH                     0.078239\n",
              "TARGET                         1.000000\n",
              "Name: TARGET, dtype: float64"
            ]
          },
          "metadata": {
            "tags": []
          },
          "execution_count": 41
        }
      ]
    },
    {
      "cell_type": "markdown",
      "metadata": {
        "id": "NFiWLL1ao3Ar"
      },
      "source": [
        "- We will take EXT_SOURCE_X features and DAYS_BIRTH and apply PolynomialFeatures on them"
      ]
    },
    {
      "cell_type": "markdown",
      "metadata": {
        "id": "u2aqJad14eYC"
      },
      "source": [
        "### Declaring variables based on categories"
      ]
    },
    {
      "cell_type": "markdown",
      "metadata": {
        "id": "FfH5wm5ICVl5"
      },
      "source": [
        "We will encode categorical vars with one-hot encoding, binary variables will be encoded by dropping the extra column "
      ]
    },
    {
      "cell_type": "code",
      "metadata": {
        "id": "guo5QBwe4pKN"
      },
      "source": [
        "binary_vars = ['NAME_CONTRACT_TYPE', 'FLAG_OWN_CAR', 'FLAG_OWN_REALTY', 'CODE_GENDER']\n",
        "\n",
        "non_binary_vars = ['NAME_TYPE_SUITE',\n",
        "                   'NAME_INCOME_TYPE' ,\n",
        "                   'NAME_EDUCATION_TYPE', \n",
        "                   'NAME_FAMILY_STATUS', \n",
        "                   'NAME_HOUSING_TYPE', \n",
        "                   'OCCUPATION_TYPE', \n",
        "                   'WEEKDAY_APPR_PROCESS_START', \n",
        "                   'ORGANIZATION_TYPE', \n",
        "                   'FONDKAPREMONT_MODE', \n",
        "                   'HOUSETYPE_MODE', \n",
        "                   'WALLSMATERIAL_MODE']\n",
        "\n",
        "non_binary_baseline = ['NAME_TYPE_SUITE',\n",
        "                       'NAME_INCOME_TYPE',\n",
        "                       'NAME_EDUCATION_TYPE', \n",
        "                       'NAME_FAMILY_STATUS', \n",
        "                       'NAME_HOUSING_TYPE', \n",
        "                       'WEEKDAY_APPR_PROCESS_START', \n",
        "                       'ORGANIZATION_TYPE']\n",
        "\n",
        "cat_features_baseline = binary_vars + non_binary_baseline\n",
        "\n",
        "non_housing_non_binary_vars = ['NAME_TYPE_SUITE',\n",
        "                        'NAME_INCOME_TYPE',\n",
        "                        'NAME_EDUCATION_TYPE', \n",
        "                        'NAME_FAMILY_STATUS', \n",
        "                        'NAME_HOUSING_TYPE', \n",
        "                        'OCCUPATION_TYPE', \n",
        "                        'WEEKDAY_APPR_PROCESS_START', \n",
        "                        'ORGANIZATION_TYPE']\n",
        "\n",
        "numerical_missing = ['OWN_CAR_AGE',\n",
        "                     'EXT_SOURCE_1', \n",
        "                     'EXT_SOURCE_3', \n",
        "                     'EXT_SOURCE_2',\n",
        "                     'AMT_REQ_CREDIT_BUREAU_QRT', \n",
        "                     'AMT_REQ_CREDIT_BUREAU_YEAR', \n",
        "                     'AMT_REQ_CREDIT_BUREAU_HOUR',\n",
        "                     'AMT_REQ_CREDIT_BUREAU_DAY',\n",
        "                     'AMT_REQ_CREDIT_BUREAU_WEEK', \n",
        "                     'AMT_REQ_CREDIT_BUREAU_MON',\n",
        "                     'AMT_GOODS_PRICE',\n",
        "                     'AMT_ANNUITY',\n",
        "                     'CNT_FAM_MEMBERS',\n",
        "                     'DAYS_LAST_PHONE_CHANGE',\n",
        "                     'DEF_60_CNT_SOCIAL_CIRCLE',\n",
        "                     'OBS_60_CNT_SOCIAL_CIRCLE',\n",
        "                     'OBS_30_CNT_SOCIAL_CIRCLE',\n",
        "                     'DEF_30_CNT_SOCIAL_CIRCLE']\n",
        "\n",
        "cat_missing = ['OCCUPATION_TYPE', 'NAME_TYPE_SUITE']"
      ],
      "execution_count": 36,
      "outputs": []
    },
    {
      "cell_type": "markdown",
      "metadata": {
        "id": "40d28H-bgVoo"
      },
      "source": [
        "### Baseline Model"
      ]
    },
    {
      "cell_type": "markdown",
      "metadata": {
        "id": "djkGI90i0C-Y"
      },
      "source": [
        "Preprocessing: \\\n",
        "\n",
        "For the baseline model, we will remove all the columns with more than 10% of missing data, the rest missing data we will drop. \\"
      ]
    },
    {
      "cell_type": "code",
      "metadata": {
        "id": "R8nQqhAW3W55"
      },
      "source": [
        "RANDOM_STATE = 42"
      ],
      "execution_count": 14,
      "outputs": []
    },
    {
      "cell_type": "code",
      "metadata": {
        "id": "slyyKfuB0CV4"
      },
      "source": [
        "baseline_data = app_train.copy()\n",
        "\n",
        "missing_cols = missing_values[missing_values['percent'] > 0.1].index.tolist()\n",
        "baseline_data = baseline_data.drop(missing_cols, axis=1)\n",
        "\n",
        "baseline_data = pd.get_dummies(baseline_data, columns=binary_vars, drop_first=True)\n",
        "baseline_data = pd.get_dummies(baseline_data, columns=non_binary_baseline)\n",
        "\n",
        "baseline_data = baseline_data.dropna()\n",
        "\n",
        "x_train, x_val, y_train, y_val = train_test_split(baseline_data.drop(['SK_ID_CURR', 'TARGET'], axis=1),\n",
        "                                                  baseline_data['TARGET'],\n",
        "                                                  test_size=0.2,\n",
        "                                                  random_state=RANDOM_STATE,\n",
        "                                                  stratify=baseline_data['TARGET'])"
      ],
      "execution_count": null,
      "outputs": []
    },
    {
      "cell_type": "code",
      "metadata": {
        "colab": {
          "base_uri": "https://localhost:8080/"
        },
        "id": "lmqd2M-W653r",
        "outputId": "cc7d3f10-881e-4032-e5db-87ac532faa3f"
      },
      "source": [
        "gbc = GradientBoostingClassifier(\n",
        "    random_state=RANDOM_STATE\n",
        ")\n",
        "\n",
        "gbc.fit(x_train, y_train)\n",
        "print(roc_auc_score(y_train, gbc.predict_proba(x_train)[:, 1]), 'train')\n",
        "print(roc_auc_score(y_val, gbc.predict_proba(x_val)[:, 1]), 'validation')"
      ],
      "execution_count": null,
      "outputs": [
        {
          "output_type": "stream",
          "text": [
            "0.7242291985116656 train\n",
            "0.7164525932128779 validation\n"
          ],
          "name": "stdout"
        }
      ]
    },
    {
      "cell_type": "code",
      "metadata": {
        "colab": {
          "base_uri": "https://localhost:8080/"
        },
        "id": "t8lUFVfiVQ1L",
        "outputId": "22e91b3a-64ff-496f-9402-f846bd44baf3"
      },
      "source": [
        "xgbc = XGBClassifier(\n",
        "    random_state=RANDOM_STATE\n",
        ")\n",
        "\n",
        "xgbc.fit(x_train, y_train)\n",
        "print(roc_auc_score(y_train, xgbc.predict_proba(x_train)[:, 1]), 'train')\n",
        "print(roc_auc_score(y_val, xgbc.predict_proba(x_val)[:, 1]), 'validation')"
      ],
      "execution_count": null,
      "outputs": [
        {
          "output_type": "stream",
          "text": [
            "0.7228122547992306 train\n",
            "0.7155896667942689 validation\n"
          ],
          "name": "stdout"
        }
      ]
    },
    {
      "cell_type": "code",
      "metadata": {
        "id": "HcxoUAH2Vp3v"
      },
      "source": [
        "cbc = CatBoostClassifier(\n",
        "    random_seed=42,\n",
        "    verbose=100,\n",
        "    cat_features=cat_features\n",
        "    \n",
        ")\n",
        "\n",
        "cbc.fit(x_train, y_train)"
      ],
      "execution_count": null,
      "outputs": []
    },
    {
      "cell_type": "code",
      "metadata": {
        "colab": {
          "base_uri": "https://localhost:8080/"
        },
        "id": "y88QRtKwYgiY",
        "outputId": "c49d21ce-0018-43d4-8458-f6e1609814c4"
      },
      "source": [
        "print(roc_auc_score(y_train, cbc.predict_proba(x_train)[:, 1]), 'train')\n",
        "print(roc_auc_score(y_val, cbc.predict_proba(x_val)[:, 1]), 'validation')"
      ],
      "execution_count": null,
      "outputs": [
        {
          "output_type": "stream",
          "text": [
            "0.7919629298713943 train\n",
            "0.7221788618069909 validation\n"
          ],
          "name": "stdout"
        }
      ]
    },
    {
      "cell_type": "markdown",
      "metadata": {
        "id": "vUdd42x1h3kw"
      },
      "source": [
        "### Feature Engineering and Hyperparametar Tuning\n",
        "\n"
      ]
    },
    {
      "cell_type": "code",
      "metadata": {
        "colab": {
          "base_uri": "https://localhost:8080/",
          "height": 1000
        },
        "id": "HfxaTk9YWnwV",
        "outputId": "f653dcdf-1c35-4345-b10d-f75e35b81242"
      },
      "source": [
        "model_experiments.drop(['Unnamed: 0'], axis=1)"
      ],
      "execution_count": 78,
      "outputs": [
        {
          "output_type": "execute_result",
          "data": {
            "text/html": [
              "<div>\n",
              "<style scoped>\n",
              "    .dataframe tbody tr th:only-of-type {\n",
              "        vertical-align: middle;\n",
              "    }\n",
              "\n",
              "    .dataframe tbody tr th {\n",
              "        vertical-align: top;\n",
              "    }\n",
              "\n",
              "    .dataframe thead th {\n",
              "        text-align: right;\n",
              "    }\n",
              "</style>\n",
              "<table border=\"1\" class=\"dataframe\">\n",
              "  <thead>\n",
              "    <tr style=\"text-align: right;\">\n",
              "      <th></th>\n",
              "      <th>model</th>\n",
              "      <th>data_explanation</th>\n",
              "      <th>hyperparam_used</th>\n",
              "      <th>roc_auc_score_train</th>\n",
              "      <th>roc_auc_score_validation</th>\n",
              "    </tr>\n",
              "  </thead>\n",
              "  <tbody>\n",
              "    <tr>\n",
              "      <th>0</th>\n",
              "      <td>GB</td>\n",
              "      <td>Baseline data, remove all columns with missing...</td>\n",
              "      <td>default</td>\n",
              "      <td>0.724229</td>\n",
              "      <td>0.716453</td>\n",
              "    </tr>\n",
              "    <tr>\n",
              "      <th>1</th>\n",
              "      <td>XGB</td>\n",
              "      <td>Baseline data, remove all columns with missing...</td>\n",
              "      <td>default</td>\n",
              "      <td>0.722812</td>\n",
              "      <td>0.715590</td>\n",
              "    </tr>\n",
              "    <tr>\n",
              "      <th>2</th>\n",
              "      <td>cat_boost</td>\n",
              "      <td>Baseline data, remove all columns with missing...</td>\n",
              "      <td>default</td>\n",
              "      <td>0.791963</td>\n",
              "      <td>0.722179</td>\n",
              "    </tr>\n",
              "    <tr>\n",
              "      <th>3</th>\n",
              "      <td>GB</td>\n",
              "      <td>Baseline data, remove housing info missing col...</td>\n",
              "      <td>default</td>\n",
              "      <td>0.813342</td>\n",
              "      <td>0.764907</td>\n",
              "    </tr>\n",
              "    <tr>\n",
              "      <th>4</th>\n",
              "      <td>XGB</td>\n",
              "      <td>Baseline data, remove housing info missing col...</td>\n",
              "      <td>default</td>\n",
              "      <td>0.813870</td>\n",
              "      <td>0.765877</td>\n",
              "    </tr>\n",
              "    <tr>\n",
              "      <th>5</th>\n",
              "      <td>cat_boost</td>\n",
              "      <td>Baseline data, remove housing info missing col...</td>\n",
              "      <td>default</td>\n",
              "      <td>0.933185</td>\n",
              "      <td>0.768101</td>\n",
              "    </tr>\n",
              "    <tr>\n",
              "      <th>6</th>\n",
              "      <td>GB</td>\n",
              "      <td>Remove missing housing values, keep non housin...</td>\n",
              "      <td>default</td>\n",
              "      <td>0.758948</td>\n",
              "      <td>0.750683</td>\n",
              "    </tr>\n",
              "    <tr>\n",
              "      <th>7</th>\n",
              "      <td>XGB</td>\n",
              "      <td>Remove missing housing values, keep non housin...</td>\n",
              "      <td>default</td>\n",
              "      <td>0.757594</td>\n",
              "      <td>0.750150</td>\n",
              "    </tr>\n",
              "    <tr>\n",
              "      <th>8</th>\n",
              "      <td>cat_boost</td>\n",
              "      <td>Remove missing housing values, keep non housin...</td>\n",
              "      <td>default</td>\n",
              "      <td>0.828280</td>\n",
              "      <td>0.759622</td>\n",
              "    </tr>\n",
              "    <tr>\n",
              "      <th>9</th>\n",
              "      <td>GB</td>\n",
              "      <td>impute all missing values</td>\n",
              "      <td>default</td>\n",
              "      <td>0.758848</td>\n",
              "      <td>0.746598</td>\n",
              "    </tr>\n",
              "    <tr>\n",
              "      <th>10</th>\n",
              "      <td>XGB</td>\n",
              "      <td>impute all missing values</td>\n",
              "      <td>default</td>\n",
              "      <td>0.757831</td>\n",
              "      <td>0.747191</td>\n",
              "    </tr>\n",
              "    <tr>\n",
              "      <th>11</th>\n",
              "      <td>cat_boost</td>\n",
              "      <td>impute all missing values</td>\n",
              "      <td>default</td>\n",
              "      <td>0.829879</td>\n",
              "      <td>0.762760</td>\n",
              "    </tr>\n",
              "    <tr>\n",
              "      <th>12</th>\n",
              "      <td>GB</td>\n",
              "      <td>impute all missing values, flag if housing inf...</td>\n",
              "      <td>default</td>\n",
              "      <td>0.758848</td>\n",
              "      <td>0.746598</td>\n",
              "    </tr>\n",
              "    <tr>\n",
              "      <th>13</th>\n",
              "      <td>XGB</td>\n",
              "      <td>impute all missing values, flag if housing inf...</td>\n",
              "      <td>default</td>\n",
              "      <td>0.757831</td>\n",
              "      <td>0.747191</td>\n",
              "    </tr>\n",
              "    <tr>\n",
              "      <th>14</th>\n",
              "      <td>cat_boost</td>\n",
              "      <td>impute all missing values, flag if housing inf...</td>\n",
              "      <td>default</td>\n",
              "      <td>0.830042</td>\n",
              "      <td>0.761602</td>\n",
              "    </tr>\n",
              "    <tr>\n",
              "      <th>15</th>\n",
              "      <td>GB</td>\n",
              "      <td>impute all missing values, flag if housing inf...</td>\n",
              "      <td>default</td>\n",
              "      <td>0.758848</td>\n",
              "      <td>0.746598</td>\n",
              "    </tr>\n",
              "    <tr>\n",
              "      <th>16</th>\n",
              "      <td>XGB</td>\n",
              "      <td>impute all missing values, flag if housing inf...</td>\n",
              "      <td>default</td>\n",
              "      <td>0.757831</td>\n",
              "      <td>0.747191</td>\n",
              "    </tr>\n",
              "    <tr>\n",
              "      <th>17</th>\n",
              "      <td>cat_boost</td>\n",
              "      <td>impute all missing values, flag if housing inf...</td>\n",
              "      <td>default</td>\n",
              "      <td>0.829479</td>\n",
              "      <td>0.761287</td>\n",
              "    </tr>\n",
              "    <tr>\n",
              "      <th>18</th>\n",
              "      <td>GB</td>\n",
              "      <td>impute all missing values, flag if housing inf...</td>\n",
              "      <td>default</td>\n",
              "      <td>0.758979</td>\n",
              "      <td>0.747298</td>\n",
              "    </tr>\n",
              "    <tr>\n",
              "      <th>19</th>\n",
              "      <td>XGB</td>\n",
              "      <td>impute all missing values, flag if housing inf...</td>\n",
              "      <td>default</td>\n",
              "      <td>0.757776</td>\n",
              "      <td>0.747746</td>\n",
              "    </tr>\n",
              "    <tr>\n",
              "      <th>20</th>\n",
              "      <td>cat_boost</td>\n",
              "      <td>impute all missing values, flag if housing inf...</td>\n",
              "      <td>default</td>\n",
              "      <td>0.829533</td>\n",
              "      <td>0.762691</td>\n",
              "    </tr>\n",
              "    <tr>\n",
              "      <th>21</th>\n",
              "      <td>GB</td>\n",
              "      <td>impute all missing values, flag if housing inf...</td>\n",
              "      <td>default</td>\n",
              "      <td>0.759668</td>\n",
              "      <td>0.749957</td>\n",
              "    </tr>\n",
              "    <tr>\n",
              "      <th>22</th>\n",
              "      <td>cat_boost</td>\n",
              "      <td>impute all missing values, flag if housing inf...</td>\n",
              "      <td>default</td>\n",
              "      <td>0.829310</td>\n",
              "      <td>0.763286</td>\n",
              "    </tr>\n",
              "    <tr>\n",
              "      <th>23</th>\n",
              "      <td>GB</td>\n",
              "      <td>impute all missing values, flag if housing inf...</td>\n",
              "      <td>default</td>\n",
              "      <td>0.758977</td>\n",
              "      <td>0.748482</td>\n",
              "    </tr>\n",
              "    <tr>\n",
              "      <th>24</th>\n",
              "      <td>XGB</td>\n",
              "      <td>impute all missing values, flag if housing inf...</td>\n",
              "      <td>default</td>\n",
              "      <td>0.757609</td>\n",
              "      <td>0.748265</td>\n",
              "    </tr>\n",
              "    <tr>\n",
              "      <th>25</th>\n",
              "      <td>cat_boost</td>\n",
              "      <td>impute all missing values, flag if housing inf...</td>\n",
              "      <td>default</td>\n",
              "      <td>0.828522</td>\n",
              "      <td>0.762070</td>\n",
              "    </tr>\n",
              "    <tr>\n",
              "      <th>26</th>\n",
              "      <td>GB</td>\n",
              "      <td>impute all missing values, flag if housing inf...</td>\n",
              "      <td>default</td>\n",
              "      <td>0.758208</td>\n",
              "      <td>0.750280</td>\n",
              "    </tr>\n",
              "    <tr>\n",
              "      <th>27</th>\n",
              "      <td>XGB</td>\n",
              "      <td>impute all missing values, flag if housing inf...</td>\n",
              "      <td>default</td>\n",
              "      <td>0.757663</td>\n",
              "      <td>0.749031</td>\n",
              "    </tr>\n",
              "    <tr>\n",
              "      <th>28</th>\n",
              "      <td>cat_boost</td>\n",
              "      <td>impute all missing values, flag if housing inf...</td>\n",
              "      <td>default</td>\n",
              "      <td>0.829987</td>\n",
              "      <td>0.761785</td>\n",
              "    </tr>\n",
              "    <tr>\n",
              "      <th>29</th>\n",
              "      <td>GB</td>\n",
              "      <td>impute all missing values, flag if housing inf...</td>\n",
              "      <td>default</td>\n",
              "      <td>0.758179</td>\n",
              "      <td>0.750729</td>\n",
              "    </tr>\n",
              "    <tr>\n",
              "      <th>30</th>\n",
              "      <td>XGB</td>\n",
              "      <td>impute all missing values, flag if housing inf...</td>\n",
              "      <td>default</td>\n",
              "      <td>0.758014</td>\n",
              "      <td>0.751610</td>\n",
              "    </tr>\n",
              "    <tr>\n",
              "      <th>31</th>\n",
              "      <td>cat_boost</td>\n",
              "      <td>impute all missing values, flag if housing inf...</td>\n",
              "      <td>default</td>\n",
              "      <td>0.829915</td>\n",
              "      <td>0.759624</td>\n",
              "    </tr>\n",
              "    <tr>\n",
              "      <th>32</th>\n",
              "      <td>XGB</td>\n",
              "      <td>dont impute missing values, flag if housing in...</td>\n",
              "      <td>default</td>\n",
              "      <td>0.759410</td>\n",
              "      <td>0.753359</td>\n",
              "    </tr>\n",
              "    <tr>\n",
              "      <th>33</th>\n",
              "      <td>cat_boost</td>\n",
              "      <td>impute missing vals, dont hot-encode, flag if ...</td>\n",
              "      <td>default</td>\n",
              "      <td>0.820896</td>\n",
              "      <td>0.761757</td>\n",
              "    </tr>\n",
              "    <tr>\n",
              "      <th>34</th>\n",
              "      <td>GB</td>\n",
              "      <td>impute missing vals, flag if housing info is m...</td>\n",
              "      <td>default</td>\n",
              "      <td>0.763254</td>\n",
              "      <td>0.756455</td>\n",
              "    </tr>\n",
              "    <tr>\n",
              "      <th>35</th>\n",
              "      <td>XGB</td>\n",
              "      <td>impute missing vals, flag if housing info is m...</td>\n",
              "      <td>default</td>\n",
              "      <td>0.762553</td>\n",
              "      <td>0.755408</td>\n",
              "    </tr>\n",
              "    <tr>\n",
              "      <th>36</th>\n",
              "      <td>cat_boost</td>\n",
              "      <td>impute missing vals, flag if housing info is m...</td>\n",
              "      <td>default</td>\n",
              "      <td>0.837150</td>\n",
              "      <td>0.771210</td>\n",
              "    </tr>\n",
              "    <tr>\n",
              "      <th>37</th>\n",
              "      <td>GB</td>\n",
              "      <td>impute missing vals, flag if housing info is m...</td>\n",
              "      <td>n_estimators: 500</td>\n",
              "      <td>0.789112</td>\n",
              "      <td>0.769363</td>\n",
              "    </tr>\n",
              "  </tbody>\n",
              "</table>\n",
              "</div>"
            ],
            "text/plain": [
              "        model  ... roc_auc_score_validation\n",
              "0          GB  ...                 0.716453\n",
              "1         XGB  ...                 0.715590\n",
              "2   cat_boost  ...                 0.722179\n",
              "3          GB  ...                 0.764907\n",
              "4         XGB  ...                 0.765877\n",
              "5   cat_boost  ...                 0.768101\n",
              "6          GB  ...                 0.750683\n",
              "7         XGB  ...                 0.750150\n",
              "8   cat_boost  ...                 0.759622\n",
              "9          GB  ...                 0.746598\n",
              "10        XGB  ...                 0.747191\n",
              "11  cat_boost  ...                 0.762760\n",
              "12         GB  ...                 0.746598\n",
              "13        XGB  ...                 0.747191\n",
              "14  cat_boost  ...                 0.761602\n",
              "15         GB  ...                 0.746598\n",
              "16        XGB  ...                 0.747191\n",
              "17  cat_boost  ...                 0.761287\n",
              "18         GB  ...                 0.747298\n",
              "19        XGB  ...                 0.747746\n",
              "20  cat_boost  ...                 0.762691\n",
              "21         GB  ...                 0.749957\n",
              "22  cat_boost  ...                 0.763286\n",
              "23         GB  ...                 0.748482\n",
              "24        XGB  ...                 0.748265\n",
              "25  cat_boost  ...                 0.762070\n",
              "26         GB  ...                 0.750280\n",
              "27        XGB  ...                 0.749031\n",
              "28  cat_boost  ...                 0.761785\n",
              "29         GB  ...                 0.750729\n",
              "30        XGB  ...                 0.751610\n",
              "31  cat_boost  ...                 0.759624\n",
              "32        XGB  ...                 0.753359\n",
              "33  cat_boost  ...                 0.761757\n",
              "34         GB  ...                 0.756455\n",
              "35        XGB  ...                 0.755408\n",
              "36  cat_boost  ...                 0.771210\n",
              "37         GB  ...                 0.769363\n",
              "\n",
              "[38 rows x 5 columns]"
            ]
          },
          "metadata": {
            "tags": []
          },
          "execution_count": 78
        }
      ]
    },
    {
      "cell_type": "markdown",
      "metadata": {
        "id": "WJf1Yxdcl0oa"
      },
      "source": [
        "### Final submission"
      ]
    },
    {
      "cell_type": "code",
      "metadata": {
        "id": "iikk6ovPl4lE"
      },
      "source": [
        "### gbc\n",
        "\n",
        "app_train_final = app_train.copy()\n",
        "app_test_final = app_test.copy()\n",
        "\n",
        "for data in [app_train_final, app_test_final]:\n",
        "  data['days_employed_distorted'] = 0\n",
        "  data.loc[data['DAYS_EMPLOYED'] > 0, 'days_employed_distorted'] = 1\n",
        "  data.loc[data['DAYS_EMPLOYED'] > 0, 'DAYS_EMPLOYED'] = np.nan\n",
        "\n",
        "  data['DAYS_BIRTH'] = np.floor(data['DAYS_BIRTH'] / -365)\n",
        "\n",
        "  data['has_missing_housing_info'] = 1\n",
        "  data.loc[data[housing_normalized_missing_features].isnull().sum(axis=1) < 35, 'has_missing_housing_info'] = 0\n",
        "\n",
        "  data['has_missing_own_car_age_info'] = 0\n",
        "  data.loc[data['OWN_CAR_AGE'].isnull(), 'has_missing_own_car_age_info'] = 1\n",
        "\n",
        "  data['has_missing_ext_source_1'] = 0\n",
        "  data.loc[data['EXT_SOURCE_1'].isnull(), 'has_missing_ext_source_1'] = 1\n",
        "\n",
        "  data['has_missing_ext_source_3'] = 0\n",
        "  data.loc[data['EXT_SOURCE_3'].isnull(), 'has_missing_ext_source_3'] = 1\n",
        "\n",
        "  data['OCCUPATION_TYPE'] = data['OCCUPATION_TYPE'].fillna('missing')\n",
        "  data['FONDKAPREMONT_MODE'] = data['FONDKAPREMONT_MODE'].fillna('missing')\n",
        "  data['EMERGENCYSTATE_MODE'] = data['EMERGENCYSTATE_MODE'].fillna('missing')\n",
        "  data['HOUSETYPE_MODE'] = data['HOUSETYPE_MODE'].fillna('missing')\n",
        "  data['WALLSMATERIAL_MODE'] = data['WALLSMATERIAL_MODE'].fillna('missing')\n",
        "  data['NAME_TYPE_SUITE'] = data['NAME_TYPE_SUITE'].fillna(data['NAME_TYPE_SUITE'].mode()[0])\n",
        "\n",
        "housing_missing_data_numerical = app_train_final[housing_normalized_missing_features].select_dtypes(include=[np.number]).columns.tolist()\n",
        "\n",
        "data_join = app_train.append(app_test)\n",
        "data_join = pd.get_dummies(data_join, columns=binary_vars, drop_first=True)\n",
        "data_join = pd.get_dummies(data_join, columns=non_housing_non_binary_vars)\n",
        "data_join = pd.get_dummies(data_join, columns=data_join[housing_normalized_missing_features].select_dtypes(include=[object]).columns.tolist())\n",
        "\n",
        "app_train_final = data_join[data_join['TARGET'].notnull()]\n",
        "app_test_final = data_join[data_join['TARGET'].isna()]\n",
        "\n",
        "for data in [app_train_final, app_test_final]:\n",
        "  data['DAYS_EMPLOYED'] = data['DAYS_EMPLOYED'].fillna(data['DAYS_EMPLOYED'].median())\n",
        "\n",
        "for col in numerical_missing:\n",
        "  app_train_final[col].fillna(app_train_final[col].median(), inplace=True)\n",
        "  app_test_final[col].fillna(app_test_final[col].median(), inplace=True)\n",
        "\n",
        "for col in housing_missing_data_numerical:\n",
        "  app_train_final[col].fillna(app_train_final[col].median(), inplace=True)\n",
        "  app_test_final[col].fillna(app_test_final[col].median(), inplace=True)\n",
        "\n",
        "for data in [app_train_final, app_test_final]:\n",
        "  data['CREDIT_ANNUITY_RATIO'] = data['AMT_CREDIT'] / (data['AMT_ANNUITY'] + 0.00001)\n",
        "  data['CREDIT_INCOME_PERCENT'] = data['AMT_CREDIT'] / data['AMT_INCOME_TOTAL']\n",
        "  data['ANNUITY_INCOME_PERCENT'] = data['AMT_ANNUITY'] / data['AMT_INCOME_TOTAL']\n",
        "  data['CREDIT_TERM'] = data['AMT_ANNUITY'] / data['AMT_CREDIT']\n",
        "  data['DAYS_EMPLOYED_PERCENT'] = data['DAYS_EMPLOYED'] / data['DAYS_BIRTH']\n",
        "\n",
        "  poly_transformer = PolynomialFeatures(degree = 3)\n",
        "  poly_transformed = poly_transformer.fit_transform(data[['EXT_SOURCE_1', 'EXT_SOURCE_2', 'EXT_SOURCE_3', 'DAYS_BIRTH']])\n",
        "  poly_features = pd.DataFrame(poly_transformed, columns = poly_transformer.get_feature_names(['EXT_SOURCE_1', 'EXT_SOURCE_2', \n",
        "                                                                                              'EXT_SOURCE_3', 'DAYS_BIRTH']))\n",
        "  data = data.reset_index(drop=True)\n",
        "  poly_features['SK_ID_CURR'] = data['SK_ID_CURR']\n",
        "  poly_features = poly_features.drop(['1', 'EXT_SOURCE_1', 'EXT_SOURCE_2', 'EXT_SOURCE_3', 'DAYS_BIRTH'], axis=1)\n",
        "  poly_features['SK_ID_CURR'] = data['SK_ID_CURR']\n",
        "  data = pd.merge(data, poly_features, on=\"SK_ID_CURR\")\n",
        "\n",
        "y_train = app_train_final['TARGET']\n",
        "x_train = app_train_final.drop(['SK_ID_CURR', 'TARGET'], axis=1)\n",
        "app_test_final = app_test_final.drop(['SK_ID_CURR', 'TARGET'], axis=1)\n"
      ],
      "execution_count": null,
      "outputs": []
    },
    {
      "cell_type": "code",
      "metadata": {
        "id": "goIalx-cDnPH"
      },
      "source": [
        "gbc = GradientBoostingClassifier(\n",
        "    random_state=RANDOM_STATE,\n",
        "    n_estimators=500\n",
        ")\n",
        "\n",
        "gbc.fit(x_train, y_train)"
      ],
      "execution_count": null,
      "outputs": []
    },
    {
      "cell_type": "code",
      "metadata": {
        "id": "9a0sNxYVEMme"
      },
      "source": [
        "gbc_pred = gbc.predict_proba(app_test_final)[:, 1]"
      ],
      "execution_count": 24,
      "outputs": []
    },
    {
      "cell_type": "code",
      "metadata": {
        "id": "gqpqIEfaXc0z"
      },
      "source": [
        "gbc_final = pd.DataFrame(app_test['SK_ID_CURR'], columns = ['SK_ID_CURR'])\n",
        "gbc_final['TARGET'] = gbc_pred \n",
        "\n",
        "gbc_final.to_csv(r'gbc.csv', index = False)"
      ],
      "execution_count": 25,
      "outputs": []
    },
    {
      "cell_type": "code",
      "metadata": {
        "id": "9oyFNb6pb7At"
      },
      "source": [
        "### xgbc\n",
        "\n",
        "app_train_final = app_train.copy()\n",
        "app_test_final = app_test.copy()\n",
        "\n",
        "for data in [app_train_final, app_test_final]:\n",
        "  data['days_employed_distorted'] = 0\n",
        "  data.loc[data['DAYS_EMPLOYED'] > 0, 'days_employed_distorted'] = 1\n",
        "\n",
        "  data.loc[data['DAYS_EMPLOYED'] > 0, 'DAYS_EMPLOYED'] = np.nan\n",
        "\n",
        "  data['DAYS_BIRTH'] = np.floor(data['DAYS_BIRTH'] / -365)\n",
        "\n",
        "  data['has_missing_housing_info'] = 1\n",
        "  data.loc[data[housing_normalized_missing_features].isnull().sum(axis=1) < 35, 'has_missing_housing_info'] = 0\n",
        "\n",
        "  data['has_missing_own_car_age_info'] = 0\n",
        "  data.loc[data['OWN_CAR_AGE'].isnull(), 'has_missing_own_car_age_info'] = 1\n",
        "\n",
        "  data['has_missing_ext_source_1'] = 0\n",
        "  data.loc[data['EXT_SOURCE_1'].isnull(), 'has_missing_ext_source_1'] = 1\n",
        "\n",
        "  data['has_missing_ext_source_3'] = 0\n",
        "  data.loc[data['EXT_SOURCE_3'].isnull(), 'has_missing_ext_source_3'] = 1\n",
        "\n",
        "  data['OCCUPATION_TYPE'] = data['OCCUPATION_TYPE'].fillna('missing')\n",
        "  data['FONDKAPREMONT_MODE'] = data['FONDKAPREMONT_MODE'].fillna('missing')\n",
        "  data['EMERGENCYSTATE_MODE'] = data['EMERGENCYSTATE_MODE'].fillna('missing')\n",
        "  data['HOUSETYPE_MODE'] = data['HOUSETYPE_MODE'].fillna('missing')\n",
        "  data['WALLSMATERIAL_MODE'] = data['WALLSMATERIAL_MODE'].fillna('missing')\n",
        "\n",
        "data_join = app_train.append(app_test)\n",
        "data_join = pd.get_dummies(data_join, columns=binary_vars, drop_first=True)\n",
        "data_join = pd.get_dummies(data_join, columns=non_housing_non_binary_vars)\n",
        "data_join = pd.get_dummies(data_join, columns=data_join[housing_normalized_missing_features].select_dtypes(include=[object]).columns.tolist())\n",
        "\n",
        "  \n",
        "app_train_final = data_join[data_join['TARGET'].notnull()]\n",
        "app_test_final = data_join[data_join['TARGET'].isna()]\n",
        "\n",
        "for data in [app_train_final, app_test_final]:\n",
        "  data['DAYS_EMPLOYED'] = data['DAYS_EMPLOYED'].fillna(data['DAYS_EMPLOYED'].median())\n",
        "\n",
        "  data['CREDIT_ANNUITY_RATIO'] = data['AMT_CREDIT'] / (data['AMT_ANNUITY'] + 0.00001)\n",
        "  data['CREDIT_INCOME_PERCENT'] = data['AMT_CREDIT'] / data['AMT_INCOME_TOTAL']\n",
        "  data['ANNUITY_INCOME_PERCENT'] = data['AMT_ANNUITY'] / data['AMT_INCOME_TOTAL']\n",
        "  data['CREDIT_TERM'] = data['AMT_ANNUITY'] / data['AMT_CREDIT']\n",
        "  data['DAYS_EMPLOYED_PERCENT'] = data['DAYS_EMPLOYED'] / data['DAYS_BIRTH']\n",
        "\n",
        "  data['DAYS_EMPLOYED'] = data['DAYS_EMPLOYED'].fillna(data['DAYS_EMPLOYED'].median())\n",
        "  data['EXT_SOURCE_1'] = data['EXT_SOURCE_1'].fillna(data['EXT_SOURCE_1'].median())\n",
        "  data['EXT_SOURCE_2'] = data['EXT_SOURCE_2'].fillna(data['EXT_SOURCE_2'].median())\n",
        "  data['EXT_SOURCE_3'] = data['EXT_SOURCE_3'].fillna(data['EXT_SOURCE_3'].median())\n",
        "\n",
        "  poly_transformer = PolynomialFeatures(degree = 3)\n",
        "  poly_transformed = poly_transformer.fit_transform(data[['EXT_SOURCE_1', 'EXT_SOURCE_2', 'EXT_SOURCE_3', 'DAYS_BIRTH']])\n",
        "  poly_features = pd.DataFrame(poly_transformed, columns = poly_transformer.get_feature_names(['EXT_SOURCE_1', 'EXT_SOURCE_2', \n",
        "                                                                                              'EXT_SOURCE_3', 'DAYS_BIRTH']))\n",
        "\n",
        "  data = data.reset_index(drop=True)\n",
        "  poly_features['SK_ID_CURR'] = data['SK_ID_CURR']\n",
        "\n",
        "  poly_features = poly_features.drop(['1', 'EXT_SOURCE_1', 'EXT_SOURCE_2', 'EXT_SOURCE_3', 'DAYS_BIRTH'], axis=1)\n",
        "  poly_features['SK_ID_CURR'] = data['SK_ID_CURR']\n",
        "\n",
        "  data = pd.merge(data, poly_features, on=\"SK_ID_CURR\")\n",
        "\n",
        "y_train = app_train_final['TARGET']\n",
        "x_train = app_train_final.drop(['SK_ID_CURR', 'TARGET'], axis=1)\n",
        "app_test_final = app_test_final.drop(['SK_ID_CURR', 'TARGET'], axis=1)\n"
      ],
      "execution_count": null,
      "outputs": []
    },
    {
      "cell_type": "code",
      "metadata": {
        "id": "VKaibDGNc_jP"
      },
      "source": [
        "xgbc = XGBClassifier(\n",
        "    random_state=RANDOM_STATE,\n",
        "    n_estimators=500\n",
        ")\n",
        "\n",
        "xgbc.fit(x_train, y_train)"
      ],
      "execution_count": null,
      "outputs": []
    },
    {
      "cell_type": "code",
      "metadata": {
        "id": "wztrdLvedwA-"
      },
      "source": [
        "xgbc_pred = xgbc.predict_proba(app_test_final)[:, 1]"
      ],
      "execution_count": 29,
      "outputs": []
    },
    {
      "cell_type": "code",
      "metadata": {
        "id": "2zbozImsdyco"
      },
      "source": [
        "xgbc_final = pd.DataFrame(app_test['SK_ID_CURR'], columns = ['SK_ID_CURR'])\n",
        "xgbc_final['TARGET'] = xgbc_pred \n",
        "\n",
        "xgbc_final.to_csv(r'xgbc.csv', index = False)"
      ],
      "execution_count": 30,
      "outputs": []
    },
    {
      "cell_type": "code",
      "metadata": {
        "id": "PT8Kv7D1mjft"
      },
      "source": [
        "### cat_boost\n",
        "\n",
        "app_train_final = app_train.copy()\n",
        "app_test_final = app_test.copy()\n",
        "\n",
        "for data in [app_train_final, app_test_final]:\n",
        "  data['days_employed_distorted'] = 0\n",
        "  data.loc[data['DAYS_EMPLOYED'] > 0, 'days_employed_distorted'] = 1\n",
        "  data.loc[data['DAYS_EMPLOYED'] > 0, 'DAYS_EMPLOYED'] = np.nan\n",
        "\n",
        "  data['DAYS_BIRTH'] = np.floor(data['DAYS_BIRTH'] / -365)\n",
        "\n",
        "  data['has_missing_housing_info'] = 1\n",
        "  data.loc[data[housing_normalized_missing_features].isnull().sum(axis=1) < 35, 'has_missing_housing_info'] = 0\n",
        "\n",
        "  data['has_missing_own_car_age_info'] = 0\n",
        "  data.loc[data['OWN_CAR_AGE'].isnull(), 'has_missing_own_car_age_info'] = 1\n",
        "\n",
        "  data['has_missing_ext_source_1'] = 0\n",
        "  data.loc[data['EXT_SOURCE_1'].isnull(), 'has_missing_ext_source_1'] = 1\n",
        "\n",
        "  data['has_missing_ext_source_3'] = 0\n",
        "  data.loc[data['EXT_SOURCE_3'].isnull(), 'has_missing_ext_source_3'] = 1\n",
        "\n",
        "  data['OCCUPATION_TYPE'] = data['OCCUPATION_TYPE'].fillna('missing')\n",
        "  data['FONDKAPREMONT_MODE'] = data['FONDKAPREMONT_MODE'].fillna('missing')\n",
        "  data['EMERGENCYSTATE_MODE'] = data['EMERGENCYSTATE_MODE'].fillna('missing')\n",
        "  data['HOUSETYPE_MODE'] = data['HOUSETYPE_MODE'].fillna('missing')\n",
        "  data['WALLSMATERIAL_MODE'] = data['WALLSMATERIAL_MODE'].fillna('missing')\n",
        "  data['NAME_TYPE_SUITE'] = data['NAME_TYPE_SUITE'].fillna(data['NAME_TYPE_SUITE'].mode()[0])\n",
        "  data['CODE_GENDER'] = data['CODE_GENDER'].fillna(data['CODE_GENDER'].mode()[0])\n",
        "\n",
        "  housing_missing_data_numerical = data[housing_normalized_missing_features].select_dtypes(include=[np.number]).columns.tolist()\n",
        "\n",
        "  data['DAYS_EMPLOYED'] = data['DAYS_EMPLOYED'].fillna(data['DAYS_EMPLOYED'].median())\n",
        "\n",
        "  for col in numerical_missing:\n",
        "    data[col].fillna(data[col].median(), inplace=True)\n",
        "\n",
        "  for col in housing_missing_data_numerical:\n",
        "    data[col].fillna(data[col].median(), inplace=True)\n",
        "\n",
        "  data['CREDIT_INCOME_PERCENT'] = data['AMT_CREDIT'] / data['AMT_INCOME_TOTAL']\n",
        "  data['ANNUITY_INCOME_PERCENT'] = data['AMT_ANNUITY'] / data['AMT_INCOME_TOTAL']\n",
        "  data['CREDIT_TERM'] = data['AMT_ANNUITY'] / data['AMT_CREDIT']\n",
        "  data['DAYS_EMPLOYED_PERCENT'] = data['DAYS_EMPLOYED'] / data['DAYS_BIRTH']\n",
        "  data[\"CREDIT_ANNUITY_RATIO\"] = data[\"AMT_CREDIT\"] / (data[\"AMT_ANNUITY\"] + 0.00001)\n",
        "\n",
        "y_train = app_train_final['TARGET']\n",
        "x_train = app_train_final.drop(['SK_ID_CURR', 'TARGET'], axis=1)\n",
        "app_test_final = app_test_final.drop(['SK_ID_CURR'], axis=1)\n"
      ],
      "execution_count": 51,
      "outputs": []
    },
    {
      "cell_type": "code",
      "metadata": {
        "id": "U2IzVN1mnMeU",
        "colab": {
          "base_uri": "https://localhost:8080/"
        },
        "outputId": "8b1b46fc-c593-42c8-d022-6a8665712cf5"
      },
      "source": [
        "cbc = CatBoostClassifier(\n",
        "    random_seed=42,\n",
        "    verbose=100,\n",
        ")\n",
        "\n",
        "cat_features = binary_vars + non_housing_non_binary_vars + x_train[housing_normalized_missing_features].select_dtypes(include=[object]).columns.tolist()\n",
        "\n",
        "\n",
        "cbc.fit(x_train, y_train, cat_features = cat_features)\n"
      ],
      "execution_count": 44,
      "outputs": [
        {
          "output_type": "stream",
          "text": [
            "Learning rate set to 0.118919\n",
            "0:\tlearn: 0.5733134\ttotal: 1.21s\tremaining: 20m 13s\n",
            "100:\tlearn: 0.2432722\ttotal: 1m 31s\tremaining: 13m 32s\n",
            "200:\tlearn: 0.2390229\ttotal: 2m 57s\tremaining: 11m 46s\n",
            "300:\tlearn: 0.2358827\ttotal: 4m 23s\tremaining: 10m 13s\n",
            "400:\tlearn: 0.2330558\ttotal: 5m 53s\tremaining: 8m 47s\n",
            "500:\tlearn: 0.2304369\ttotal: 7m 21s\tremaining: 7m 19s\n",
            "600:\tlearn: 0.2279851\ttotal: 8m 48s\tremaining: 5m 50s\n",
            "700:\tlearn: 0.2256591\ttotal: 10m 16s\tremaining: 4m 22s\n",
            "800:\tlearn: 0.2234237\ttotal: 11m 42s\tremaining: 2m 54s\n",
            "900:\tlearn: 0.2213773\ttotal: 13m 10s\tremaining: 1m 26s\n",
            "999:\tlearn: 0.2194111\ttotal: 14m 38s\tremaining: 0us\n"
          ],
          "name": "stdout"
        },
        {
          "output_type": "execute_result",
          "data": {
            "text/plain": [
              "<catboost.core.CatBoostClassifier at 0x7effa494f050>"
            ]
          },
          "metadata": {
            "tags": []
          },
          "execution_count": 44
        }
      ]
    },
    {
      "cell_type": "code",
      "metadata": {
        "id": "W0vp0kP9nk2B"
      },
      "source": [
        "cbc_pred = cbc.predict_proba(app_test_final)[:, 1]"
      ],
      "execution_count": 45,
      "outputs": []
    },
    {
      "cell_type": "code",
      "metadata": {
        "id": "j_o4Dy3cnpFc"
      },
      "source": [
        "cbc_final = pd.DataFrame(app_test['SK_ID_CURR'], columns = ['SK_ID_CURR'])\n",
        "cbc_final['TARGET'] = cbc_pred \n",
        "\n",
        "cbc_final.to_csv(r'cbc.csv', index = False)"
      ],
      "execution_count": 46,
      "outputs": []
    },
    {
      "cell_type": "code",
      "metadata": {
        "id": "aW10qJmyr_Rj"
      },
      "source": [
        "stacked_avg = pd.DataFrame(app_test['SK_ID_CURR'], columns = ['SK_ID_CURR'])\n",
        "stacked_avg['TARGET'] = (cbc_final['TARGET'] + xgbc_final['TARGET'] + gbc_final['TARGET']) / 3\n",
        "stacked_avg.to_csv(r'stacked.csv', index=False)"
      ],
      "execution_count": 47,
      "outputs": []
    },
    {
      "cell_type": "markdown",
      "metadata": {
        "id": "IAv05sdlXt5n"
      },
      "source": [
        "### Final Notes"
      ]
    },
    {
      "cell_type": "markdown",
      "metadata": {
        "id": "LKxynQt-Zc9K"
      },
      "source": [
        "- To improve the score, we would need to explore other data sets and extract valuable features from there.\n",
        "\n",
        "- Find optimal hyperparametars for models.\n",
        "\n",
        "- Do feature importence on different tresholds for each model to maximize the performence."
      ]
    },
    {
      "cell_type": "markdown",
      "metadata": {
        "id": "s2rdj6ngYiSH"
      },
      "source": [
        "### Kaggle Notebooks used to supplement this notebook:"
      ]
    },
    {
      "cell_type": "markdown",
      "metadata": {
        "id": "dqIRaFjTZY-y"
      },
      "source": [
        "- https://www.kaggle.com/willkoehrsen/start-here-a-gentle-introduction\n",
        "- https://www.kaggle.com/jpmiller/patterns-of-missing-data\n",
        "- https://github.com/ovidijusku/sharingiscaring/blob/main/bestfeature.py"
      ]
    }
  ]
}