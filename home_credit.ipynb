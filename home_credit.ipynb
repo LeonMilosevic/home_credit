{
  "nbformat": 4,
  "nbformat_minor": 0,
  "metadata": {
    "colab": {
      "name": "home_credit.ipynb",
      "provenance": [],
      "authorship_tag": "ABX9TyO1MH9yaZoXx8NiXhxVHWag",
      "include_colab_link": true
    },
    "kernelspec": {
      "name": "python3",
      "display_name": "Python 3"
    },
    "language_info": {
      "name": "python"
    }
  },
  "cells": [
    {
      "cell_type": "markdown",
      "metadata": {
        "id": "view-in-github",
        "colab_type": "text"
      },
      "source": [
        "<a href=\"https://colab.research.google.com/github/LeonMilosevic/home_credit/blob/main/home_credit.ipynb\" target=\"_parent\"><img src=\"https://colab.research.google.com/assets/colab-badge.svg\" alt=\"Open In Colab\"/></a>"
      ]
    },
    {
      "cell_type": "markdown",
      "metadata": {
        "id": "3_wKe2AQlYal"
      },
      "source": [
        "## Home Credit Default Risk Competition"
      ]
    },
    {
      "cell_type": "markdown",
      "metadata": {
        "id": "NN_eU5wQ4rxH"
      },
      "source": [
        "### Intro"
      ]
    },
    {
      "cell_type": "markdown",
      "metadata": {
        "id": "Z5Y93r9klbO1"
      },
      "source": [
        "Introduction: \\\n",
        "\n",
        "https://www.kaggle.com/c/home-credit-default-risk/overview\n",
        "\n",
        "In Home Credit Default Risk Competition we need to make a model, that will give us a probability that the given client repays the loan. This should help the business decide if they should or should not proivde financial loan to a given customer.\n",
        "\n",
        "Problem:\n",
        "\n",
        "It is a binary classification problem:\n",
        "- Will repay the loan = 0\n",
        "- Will not repay the loan = 1\n",
        "\n",
        "Evaluation Criteria:\n",
        "\n",
        "Based on the requirements of the competition, we will need to evaluate our models on ***roc_auc_score*** metric.\n",
        "\n",
        "Data:\n",
        "\n",
        "- application_{train|test}.csv (main file)\n",
        "- bureau.csv\n",
        "- bureau_balance.csv\n",
        "- POS_CASH_balance.csv\n",
        "- credit_card_balance.csv\n",
        "- previous_application.csv\n",
        "- installments_payments.csv\n",
        "- HomeCredit_columns_description.csv\n",
        "\n",
        "Approach:\n",
        "- Explore the data of application_train\n",
        "- Create baseline model\n",
        "- Explore other files\n",
        "- Add usefull features from other files\n",
        "- Test models on new features\n",
        "- Feature Engineering\n"
      ]
    },
    {
      "cell_type": "markdown",
      "metadata": {
        "id": "Wa5WVR463a4V"
      },
      "source": [
        "Imports"
      ]
    },
    {
      "cell_type": "code",
      "metadata": {
        "id": "FwkMeh503VSl"
      },
      "source": [
        "import pandas as pd\n",
        "import numpy as np\n",
        "import seaborn as sn\n"
      ],
      "execution_count": null,
      "outputs": []
    },
    {
      "cell_type": "markdown",
      "metadata": {
        "id": "cJ8Ijhrp3crm"
      },
      "source": [
        "Files"
      ]
    },
    {
      "cell_type": "code",
      "metadata": {
        "id": "_EaLGM4BlVZn"
      },
      "source": [
        ""
      ],
      "execution_count": null,
      "outputs": []
    },
    {
      "cell_type": "markdown",
      "metadata": {
        "id": "f4FzsuE33eGH"
      },
      "source": [
        "Custom Functions"
      ]
    },
    {
      "cell_type": "code",
      "metadata": {
        "id": "rwFc6gvj3hY1"
      },
      "source": [
        ""
      ],
      "execution_count": null,
      "outputs": []
    },
    {
      "cell_type": "markdown",
      "metadata": {
        "id": "KbX27GoY3Taj"
      },
      "source": [
        "### EDA"
      ]
    }
  ]
}